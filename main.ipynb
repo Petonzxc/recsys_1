{
 "cells": [
  {
   "cell_type": "code",
   "execution_count": 1393,
   "metadata": {
    "collapsed": true
   },
   "outputs": [],
   "source": [
    "import os\n",
    "import sys\n",
    "import typing as tp\n",
    "\n",
    "import joblib\n",
    "import numpy as np\n",
    "import pandas as pd\n",
    "import tqdm.notebook\n",
    "from recsys.datasets import ml1m, ml100k\n",
    "from sklearn.preprocessing import LabelEncoder"
   ]
  },
  {
   "cell_type": "code",
   "execution_count": 1394,
   "outputs": [
    {
     "name": "stdout",
     "output_type": "stream",
     "text": [
      "The autoreload extension is already loaded. To reload it, use:\n",
      "  %reload_ext autoreload\n"
     ]
    }
   ],
   "source": [
    "%load_ext autoreload\n",
    "%autoreload 2"
   ],
   "metadata": {
    "collapsed": false
   }
  },
  {
   "cell_type": "code",
   "execution_count": 1395,
   "outputs": [
    {
     "data": {
      "text/plain": "   userid  itemid  rating\n0       1       1       5\n1       1       2       3\n2       1       3       4\n3       1       4       3\n4       1       5       3",
      "text/html": "<div>\n<style scoped>\n    .dataframe tbody tr th:only-of-type {\n        vertical-align: middle;\n    }\n\n    .dataframe tbody tr th {\n        vertical-align: top;\n    }\n\n    .dataframe thead th {\n        text-align: right;\n    }\n</style>\n<table border=\"1\" class=\"dataframe\">\n  <thead>\n    <tr style=\"text-align: right;\">\n      <th></th>\n      <th>userid</th>\n      <th>itemid</th>\n      <th>rating</th>\n    </tr>\n  </thead>\n  <tbody>\n    <tr>\n      <th>0</th>\n      <td>1</td>\n      <td>1</td>\n      <td>5</td>\n    </tr>\n    <tr>\n      <th>1</th>\n      <td>1</td>\n      <td>2</td>\n      <td>3</td>\n    </tr>\n    <tr>\n      <th>2</th>\n      <td>1</td>\n      <td>3</td>\n      <td>4</td>\n    </tr>\n    <tr>\n      <th>3</th>\n      <td>1</td>\n      <td>4</td>\n      <td>3</td>\n    </tr>\n    <tr>\n      <th>4</th>\n      <td>1</td>\n      <td>5</td>\n      <td>3</td>\n    </tr>\n  </tbody>\n</table>\n</div>"
     },
     "execution_count": 1395,
     "metadata": {},
     "output_type": "execute_result"
    }
   ],
   "source": [
    "ratings, movies = ml100k.load()\n",
    "ratings.head()"
   ],
   "metadata": {
    "collapsed": false
   }
  },
  {
   "cell_type": "code",
   "execution_count": 1396,
   "outputs": [
    {
     "data": {
      "text/plain": "   itemid              title\n0       1   Toy Story (1995)\n1       2   GoldenEye (1995)\n2       3  Four Rooms (1995)\n3       4  Get Shorty (1995)\n4       5     Copycat (1995)",
      "text/html": "<div>\n<style scoped>\n    .dataframe tbody tr th:only-of-type {\n        vertical-align: middle;\n    }\n\n    .dataframe tbody tr th {\n        vertical-align: top;\n    }\n\n    .dataframe thead th {\n        text-align: right;\n    }\n</style>\n<table border=\"1\" class=\"dataframe\">\n  <thead>\n    <tr style=\"text-align: right;\">\n      <th></th>\n      <th>itemid</th>\n      <th>title</th>\n    </tr>\n  </thead>\n  <tbody>\n    <tr>\n      <th>0</th>\n      <td>1</td>\n      <td>Toy Story (1995)</td>\n    </tr>\n    <tr>\n      <th>1</th>\n      <td>2</td>\n      <td>GoldenEye (1995)</td>\n    </tr>\n    <tr>\n      <th>2</th>\n      <td>3</td>\n      <td>Four Rooms (1995)</td>\n    </tr>\n    <tr>\n      <th>3</th>\n      <td>4</td>\n      <td>Get Shorty (1995)</td>\n    </tr>\n    <tr>\n      <th>4</th>\n      <td>5</td>\n      <td>Copycat (1995)</td>\n    </tr>\n  </tbody>\n</table>\n</div>"
     },
     "execution_count": 1396,
     "metadata": {},
     "output_type": "execute_result"
    }
   ],
   "source": [
    "movies.head()"
   ],
   "metadata": {
    "collapsed": false
   }
  },
  {
   "cell_type": "code",
   "execution_count": 1397,
   "outputs": [
    {
     "data": {
      "text/plain": "        userid  itemid  rating\n0            1       1       5\n1            1       2       3\n2            1       3       4\n3            1       4       3\n4            1       5       3\n...        ...     ...     ...\n100024     944     204       4\n100025     944     210       4\n100026     944     228       4\n100027     944     229       4\n100028     944     231       4\n\n[100029 rows x 3 columns]",
      "text/html": "<div>\n<style scoped>\n    .dataframe tbody tr th:only-of-type {\n        vertical-align: middle;\n    }\n\n    .dataframe tbody tr th {\n        vertical-align: top;\n    }\n\n    .dataframe thead th {\n        text-align: right;\n    }\n</style>\n<table border=\"1\" class=\"dataframe\">\n  <thead>\n    <tr style=\"text-align: right;\">\n      <th></th>\n      <th>userid</th>\n      <th>itemid</th>\n      <th>rating</th>\n    </tr>\n  </thead>\n  <tbody>\n    <tr>\n      <th>0</th>\n      <td>1</td>\n      <td>1</td>\n      <td>5</td>\n    </tr>\n    <tr>\n      <th>1</th>\n      <td>1</td>\n      <td>2</td>\n      <td>3</td>\n    </tr>\n    <tr>\n      <th>2</th>\n      <td>1</td>\n      <td>3</td>\n      <td>4</td>\n    </tr>\n    <tr>\n      <th>3</th>\n      <td>1</td>\n      <td>4</td>\n      <td>3</td>\n    </tr>\n    <tr>\n      <th>4</th>\n      <td>1</td>\n      <td>5</td>\n      <td>3</td>\n    </tr>\n    <tr>\n      <th>...</th>\n      <td>...</td>\n      <td>...</td>\n      <td>...</td>\n    </tr>\n    <tr>\n      <th>100024</th>\n      <td>944</td>\n      <td>204</td>\n      <td>4</td>\n    </tr>\n    <tr>\n      <th>100025</th>\n      <td>944</td>\n      <td>210</td>\n      <td>4</td>\n    </tr>\n    <tr>\n      <th>100026</th>\n      <td>944</td>\n      <td>228</td>\n      <td>4</td>\n    </tr>\n    <tr>\n      <th>100027</th>\n      <td>944</td>\n      <td>229</td>\n      <td>4</td>\n    </tr>\n    <tr>\n      <th>100028</th>\n      <td>944</td>\n      <td>231</td>\n      <td>4</td>\n    </tr>\n  </tbody>\n</table>\n<p>100029 rows × 3 columns</p>\n</div>"
     },
     "execution_count": 1397,
     "metadata": {},
     "output_type": "execute_result"
    }
   ],
   "source": [
    "my_favourite_movies = [1, 96, 100, 23, 29, 50, 67, 72, 89, 95, 98, 121, 127, 135, 151, 161, 178, 181, 196, 204, 210, 225, 222, 227, 228, 229, 230, 231, 250]\n",
    "\n",
    "my_favourite_movies5 = [1, 29, 50, 67, 95, 98, 121, 127, 178, 181, 225, 222, 227, 231, 250]\n",
    "\n",
    "my_favourite_movies4 = [96, 100, 23, 72, 89, 135, 151, 161, 196, 204, 210, 228, 229, 231]\n",
    "assert len(my_favourite_movies4) + len(my_favourite_movies5) == len(my_favourite_movies)\n",
    "\n",
    "my_user_index = max(ratings['userid']) + 1\n",
    "for id in my_favourite_movies5:\n",
    "    new_rows = pd.DataFrame({\n",
    "        'userid': [my_user_index],\n",
    "        'itemid': [id],\n",
    "        'rating': [5]\n",
    "    }, index=[0])\n",
    "    ratings = pd.concat([ratings, new_rows], ignore_index=True)\n",
    "for id in my_favourite_movies4:\n",
    "    new_rows = pd.DataFrame({\n",
    "        'userid': [my_user_index],\n",
    "        'itemid': [id],\n",
    "        'rating': [4]\n",
    "    }, index=[0])\n",
    "    ratings = pd.concat([ratings, new_rows], ignore_index=True)\n",
    "ratings"
   ],
   "metadata": {
    "collapsed": false
   }
  },
  {
   "cell_type": "markdown",
   "source": [
    "### Preprocessing"
   ],
   "metadata": {
    "collapsed": false
   }
  },
  {
   "cell_type": "code",
   "execution_count": 1398,
   "outputs": [],
   "source": [
    "def ids_encoder(ratings):\n",
    "    users = sorted(ratings[\"userid\"].unique())\n",
    "    items = sorted(ratings[\"itemid\"].unique())\n",
    "\n",
    "    # create users and items encoders\n",
    "    uencoder = LabelEncoder()\n",
    "    iencoder = LabelEncoder()\n",
    "\n",
    "    # fit users and items ids to the corresponding encoder\n",
    "    uencoder.fit(users)\n",
    "    iencoder.fit(items)\n",
    "\n",
    "    # encode userids and itemids\n",
    "    ratings.userid = uencoder.transform(ratings.userid.tolist())\n",
    "    ratings.itemid = iencoder.transform(ratings.itemid.tolist())\n",
    "\n",
    "    return ratings, uencoder, iencoder"
   ],
   "metadata": {
    "collapsed": false
   }
  },
  {
   "cell_type": "code",
   "execution_count": 1399,
   "outputs": [
    {
     "data": {
      "text/plain": "        userid  itemid  rating\n0            0       0       5\n1            0       1       3\n2            0       2       4\n3            0       3       3\n4            0       4       3\n...        ...     ...     ...\n100024     943     203       4\n100025     943     209       4\n100026     943     227       4\n100027     943     228       4\n100028     943     230       4\n\n[100029 rows x 3 columns]",
      "text/html": "<div>\n<style scoped>\n    .dataframe tbody tr th:only-of-type {\n        vertical-align: middle;\n    }\n\n    .dataframe tbody tr th {\n        vertical-align: top;\n    }\n\n    .dataframe thead th {\n        text-align: right;\n    }\n</style>\n<table border=\"1\" class=\"dataframe\">\n  <thead>\n    <tr style=\"text-align: right;\">\n      <th></th>\n      <th>userid</th>\n      <th>itemid</th>\n      <th>rating</th>\n    </tr>\n  </thead>\n  <tbody>\n    <tr>\n      <th>0</th>\n      <td>0</td>\n      <td>0</td>\n      <td>5</td>\n    </tr>\n    <tr>\n      <th>1</th>\n      <td>0</td>\n      <td>1</td>\n      <td>3</td>\n    </tr>\n    <tr>\n      <th>2</th>\n      <td>0</td>\n      <td>2</td>\n      <td>4</td>\n    </tr>\n    <tr>\n      <th>3</th>\n      <td>0</td>\n      <td>3</td>\n      <td>3</td>\n    </tr>\n    <tr>\n      <th>4</th>\n      <td>0</td>\n      <td>4</td>\n      <td>3</td>\n    </tr>\n    <tr>\n      <th>...</th>\n      <td>...</td>\n      <td>...</td>\n      <td>...</td>\n    </tr>\n    <tr>\n      <th>100024</th>\n      <td>943</td>\n      <td>203</td>\n      <td>4</td>\n    </tr>\n    <tr>\n      <th>100025</th>\n      <td>943</td>\n      <td>209</td>\n      <td>4</td>\n    </tr>\n    <tr>\n      <th>100026</th>\n      <td>943</td>\n      <td>227</td>\n      <td>4</td>\n    </tr>\n    <tr>\n      <th>100027</th>\n      <td>943</td>\n      <td>228</td>\n      <td>4</td>\n    </tr>\n    <tr>\n      <th>100028</th>\n      <td>943</td>\n      <td>230</td>\n      <td>4</td>\n    </tr>\n  </tbody>\n</table>\n<p>100029 rows × 3 columns</p>\n</div>"
     },
     "execution_count": 1399,
     "metadata": {},
     "output_type": "execute_result"
    }
   ],
   "source": [
    "# create the encoder\n",
    "ratings, uencoder, iencoder = ids_encoder(ratings)\n",
    "ratings"
   ],
   "metadata": {
    "collapsed": false
   }
  },
  {
   "cell_type": "code",
   "execution_count": 1400,
   "outputs": [],
   "source": [
    "from sklearn.model_selection import train_test_split\n",
    "train_data, test_data = train_test_split(ratings, test_size=0.2)\n",
    "np_ratings = train_data.to_numpy()\n",
    "all_ratings = ratings.to_numpy()"
   ],
   "metadata": {
    "collapsed": false
   }
  },
  {
   "cell_type": "markdown",
   "source": [
    "## 1 Задание"
   ],
   "metadata": {
    "collapsed": false
   }
  },
  {
   "cell_type": "code",
   "execution_count": 1401,
   "outputs": [],
   "source": [
    "from functools import lru_cache\n",
    "\n",
    "@lru_cache(5000)\n",
    "def ratings_for_user(i):\n",
    "    return all_ratings[all_ratings[:, 0] == i]"
   ],
   "metadata": {
    "collapsed": false
   }
  },
  {
   "cell_type": "markdown",
   "source": [
    "### Коэффициент Жаккара"
   ],
   "metadata": {
    "collapsed": false
   }
  },
  {
   "cell_type": "code",
   "execution_count": 1402,
   "outputs": [
    {
     "name": "stdout",
     "output_type": "stream",
     "text": [
      "0.056962025316455694\n"
     ]
    }
   ],
   "source": [
    "def jaccard_similarity(np_ratings, i: int, j: int) -> float:\n",
    "    if i == j:\n",
    "        return 1.0\n",
    "\n",
    "    ratings_i, ratings_j = ratings_for_user(i), ratings_for_user(j)\n",
    "    movies_user1 = ratings_i[:, 1]\n",
    "    movies_user2 = ratings_j[:, 1]\n",
    "\n",
    "    common_movies = np.intersect1d(movies_user1, movies_user2)\n",
    "    all_movies = np.union1d(movies_user1, movies_user2)\n",
    "\n",
    "    jaccard_index = len(common_movies) / len(all_movies)\n",
    "\n",
    "    return jaccard_index\n",
    "\n",
    "assert np.isclose(jaccard_similarity(np_ratings, 0, 0), 1.0)\n",
    "print(jaccard_similarity(np_ratings, 0, 1))"
   ],
   "metadata": {
    "collapsed": false
   }
  },
  {
   "cell_type": "markdown",
   "source": [
    "### Скалярное произведение общих рейтингов"
   ],
   "metadata": {
    "collapsed": false
   }
  },
  {
   "cell_type": "code",
   "execution_count": 1403,
   "outputs": [
    {
     "name": "stdout",
     "output_type": "stream",
     "text": [
      "319\n"
     ]
    }
   ],
   "source": [
    "def dot_product_similarity(np_ratings, i: int, j: int) -> float:\n",
    "    if i == j:\n",
    "        return 1.0\n",
    "\n",
    "    ratings_i, ratings_j = ratings_for_user(i), ratings_for_user(j)\n",
    "\n",
    "    common_movies = np.intersect1d(ratings_i[:, 1], ratings_j[:, 1])\n",
    "\n",
    "    common_ratings_i = ratings_i[np.isin(ratings_i[:, 1], common_movies)]\n",
    "    common_ratings_j = ratings_j[np.isin(ratings_j[:, 1], common_movies)]\n",
    "\n",
    "    x = common_ratings_i[:, 2]\n",
    "    y = common_ratings_j[:, 2]\n",
    "\n",
    "    return np.dot(x, y)\n",
    "\n",
    "print(dot_product_similarity(np_ratings, 0, 1))\n",
    "assert np.isclose(dot_product_similarity(np_ratings, 0, 0), 1.0)"
   ],
   "metadata": {
    "collapsed": false
   }
  },
  {
   "cell_type": "markdown",
   "source": [
    "### Скорректированная Кореляция Пирсона"
   ],
   "metadata": {
    "collapsed": false
   }
  },
  {
   "cell_type": "code",
   "execution_count": 1404,
   "outputs": [
    {
     "name": "stdout",
     "output_type": "stream",
     "text": [
      "-0.0017341664853389787\n",
      "-0.055524917387262014\n"
     ]
    }
   ],
   "source": [
    "def pearson_correlation(np_ratings, i: int, j: int) -> float:\n",
    "    if i == j:\n",
    "        return 1.0\n",
    "\n",
    "    ratings_i, ratings_j = ratings_for_user(i), ratings_for_user(j)\n",
    "\n",
    "    mean_user1 = np.mean(ratings_i[:, 2])\n",
    "    mean_user2 = np.mean(ratings_j[:, 2])\n",
    "\n",
    "    numerator = sum([(rating_user1 - mean_user1) * (rating_user2 - mean_user2) for rating_user1, rating_user2 in zip(ratings_i[:, 2], ratings_j[:, 2])])\n",
    "    denominator = np.sqrt(sum([(rating_user1 - mean_user1)**2 for rating_user1 in ratings_i[:, 2]]) * sum([(rating_user2 - mean_user2)**2 for rating_user2 in ratings_j[:, 2]]))\n",
    "\n",
    "    pearson_corr = numerator / denominator if denominator != 0 else numerator\n",
    "\n",
    "    common_movies = np.intersect1d(ratings_i[:, 1], ratings_j[:, 1])\n",
    "    coef = min(1, len(common_movies) / 50)\n",
    "    if np.isclose(coef, 0.0):\n",
    "        coef = 1\n",
    "    return pearson_corr * coef\n",
    "\n",
    "print(pearson_correlation(np_ratings, 0, 1))\n",
    "print(pearson_correlation(np_ratings, 2, 3))\n",
    "assert np.isclose(pearson_correlation(np_ratings, 0, 0), 1.0)"
   ],
   "metadata": {
    "collapsed": false
   }
  },
  {
   "cell_type": "markdown",
   "source": [
    "### 2 Задание"
   ],
   "metadata": {
    "collapsed": false
   }
  },
  {
   "cell_type": "markdown",
   "source": [
    "### Простое усреднение по ближайшим соседям"
   ],
   "metadata": {
    "collapsed": false
   }
  },
  {
   "cell_type": "code",
   "execution_count": 1405,
   "outputs": [
    {
     "data": {
      "text/plain": "[(215, 0.19198244073602577),\n (289, 0.15562120535833365),\n (902, 0.14563465544661258),\n (880, 0.13499841828857773),\n (159, 0.12701750601913794),\n (338, 0.11971270022230987),\n (762, 0.11821862633443757),\n (304, 0.11219384099355088),\n (842, 0.11190864773468465),\n (291, 0.11101521774217658),\n (5, 0.10884336960670629),\n (882, 0.09855213929887945),\n (886, 0.0962804110066975),\n (649, 0.09481845681661784),\n (57, 0.0933495883242139),\n (587, 0.09077879151430997),\n (535, 0.08639127789745854),\n (477, 0.08456780665622526),\n (683, 0.08150522168254352),\n (349, 0.0765146463935229),\n (664, 0.07640379163899759),\n (544, 0.07526396656320619),\n (772, 0.07500489359490821),\n (748, 0.07480211457266728),\n (793, 0.07247636462903895),\n (647, 0.07030212871394699),\n (342, 0.06901479361953161),\n (326, 0.06825960537811308),\n (660, 0.06814210394356963),\n (720, 0.06798551871960856),\n (641, 0.06692259858810187),\n (531, 0.06580252835617872),\n (653, 0.06465761868971755),\n (293, 0.06444432619905027),\n (926, 0.0636240108503025),\n (581, 0.06270800470411478),\n (532, 0.06259029301475563),\n (74, 0.06257249443703493),\n (829, 0.06170556449842271),\n (278, 0.06040163442846506),\n (242, 0.0588371378334771),\n (253, 0.05804223963274958),\n (249, 0.056670796059296466),\n (14, 0.055929453493390166),\n (40, 0.05588757911326253),\n (888, 0.054860265635104266),\n (893, 0.05371564051501121),\n (69, 0.05276529094418585),\n (15, 0.0523875960104999),\n (457, 0.051691064241706594)]"
     },
     "execution_count": 1405,
     "metadata": {},
     "output_type": "execute_result"
    }
   ],
   "source": [
    "def get_neighbors(np_ratings, user, movie_id, similarity_func, k=50):\n",
    "    users_similarity = []\n",
    "    users = np.unique(np_ratings[np_ratings[:, 1] == movie_id][:, 0])\n",
    "    for cur_user in users:\n",
    "        if cur_user != user:\n",
    "            similarity = similarity_func(np_ratings, cur_user, user)\n",
    "            users_similarity.append((cur_user, similarity))\n",
    "\n",
    "    users_similarity = sorted(users_similarity, key=lambda x: x[1], reverse=True)\n",
    "    k = min(k, len(users_similarity))\n",
    "    top_k_neighbors = users_similarity[:k]\n",
    "\n",
    "    return top_k_neighbors\n",
    "\n",
    "get_neighbors(np_ratings, 0, 0, pearson_correlation)"
   ],
   "metadata": {
    "collapsed": false
   }
  },
  {
   "cell_type": "code",
   "execution_count": 1406,
   "outputs": [
    {
     "data": {
      "text/plain": "array([[238, 227,   2],\n       [  0, 266,   4],\n       [157, 297,   3],\n       ...,\n       [676,   6,   4],\n       [ 10, 214,   3],\n       [416, 746,   3]])"
     },
     "execution_count": 1406,
     "metadata": {},
     "output_type": "execute_result"
    }
   ],
   "source": [
    "np_ratings"
   ],
   "metadata": {
    "collapsed": false
   }
  },
  {
   "cell_type": "code",
   "execution_count": 1407,
   "outputs": [],
   "source": [
    "from functools import lru_cache\n",
    "\n",
    "@lru_cache(5000)\n",
    "def movie_rating_for_user(user, movie_id) -> float:\n",
    "    ratings = ratings_for_user(user)\n",
    "    return ratings[ratings[:, 1] == movie_id][0][2]\n",
    "\n",
    "assert movie_rating_for_user(917, 198) == 3"
   ],
   "metadata": {
    "collapsed": false
   }
  },
  {
   "cell_type": "code",
   "execution_count": 1408,
   "outputs": [
    {
     "data": {
      "text/plain": "4.111112970231002"
     },
     "execution_count": 1408,
     "metadata": {},
     "output_type": "execute_result"
    }
   ],
   "source": [
    "def rating_predictions_1(np_ratings, user, movie_id, similarity_func, k=50):\n",
    "   neighbors = get_neighbors(np_ratings, user, movie_id, similarity_func, k)\n",
    "\n",
    "   numerator = sum([similarity * movie_rating_for_user(user1, movie_id) for user1, similarity in neighbors])\n",
    "   denominator = sum([abs(similarity) for user1, similarity in neighbors])\n",
    "\n",
    "   return numerator / denominator\n",
    "\n",
    "rating_predictions_1(np_ratings, 0, 0, pearson_correlation)"
   ],
   "metadata": {
    "collapsed": false
   }
  },
  {
   "cell_type": "markdown",
   "source": [
    "### Усреднение с учётом коррекции среднего"
   ],
   "metadata": {
    "collapsed": false
   }
  },
  {
   "cell_type": "code",
   "execution_count": 1409,
   "outputs": [
    {
     "data": {
      "text/plain": "4.087617000136576"
     },
     "execution_count": 1409,
     "metadata": {},
     "output_type": "execute_result"
    }
   ],
   "source": [
    "def rating_predictions_2(np_ratings, user, movie_id, similarity_func, k=50):\n",
    "   neighbors = get_neighbors(np_ratings, user, movie_id, similarity_func, k)\n",
    "\n",
    "   ratings = ratings_for_user(user)\n",
    "   mean_user = np.mean(ratings[:, 2])\n",
    "\n",
    "   numerator = sum([similarity * (movie_rating_for_user(user1, movie_id) - np.mean(ratings_for_user(user1)[:, 2])) for user1, similarity in neighbors])\n",
    "   denominator = sum([abs(similarity) for user1, similarity in neighbors])\n",
    "\n",
    "   if denominator == 0.0:\n",
    "       return mean_user\n",
    "\n",
    "   return mean_user + (numerator / denominator)\n",
    "\n",
    "rating_predictions_2(np_ratings, 0, 0, pearson_correlation)"
   ],
   "metadata": {
    "collapsed": false
   }
  },
  {
   "cell_type": "markdown",
   "source": [
    "### 3 Задание"
   ],
   "metadata": {
    "collapsed": false
   }
  },
  {
   "cell_type": "markdown",
   "source": [
    "### Разделите датасет movielens на тренировочную и валидационную части. Постройте рекомендации для пользователей из валидационной части"
   ],
   "metadata": {
    "collapsed": false
   }
  },
  {
   "cell_type": "code",
   "execution_count": 1410,
   "outputs": [
    {
     "data": {
      "text/plain": "       userid  itemid  rating\n69343     633     146       2\n476         4     225       3\n6125       58     217       5\n21196     215     128       4\n67723     617     722       3",
      "text/html": "<div>\n<style scoped>\n    .dataframe tbody tr th:only-of-type {\n        vertical-align: middle;\n    }\n\n    .dataframe tbody tr th {\n        vertical-align: top;\n    }\n\n    .dataframe thead th {\n        text-align: right;\n    }\n</style>\n<table border=\"1\" class=\"dataframe\">\n  <thead>\n    <tr style=\"text-align: right;\">\n      <th></th>\n      <th>userid</th>\n      <th>itemid</th>\n      <th>rating</th>\n    </tr>\n  </thead>\n  <tbody>\n    <tr>\n      <th>69343</th>\n      <td>633</td>\n      <td>146</td>\n      <td>2</td>\n    </tr>\n    <tr>\n      <th>476</th>\n      <td>4</td>\n      <td>225</td>\n      <td>3</td>\n    </tr>\n    <tr>\n      <th>6125</th>\n      <td>58</td>\n      <td>217</td>\n      <td>5</td>\n    </tr>\n    <tr>\n      <th>21196</th>\n      <td>215</td>\n      <td>128</td>\n      <td>4</td>\n    </tr>\n    <tr>\n      <th>67723</th>\n      <td>617</td>\n      <td>722</td>\n      <td>3</td>\n    </tr>\n  </tbody>\n</table>\n</div>"
     },
     "execution_count": 1410,
     "metadata": {},
     "output_type": "execute_result"
    }
   ],
   "source": [
    "test_data.head()"
   ],
   "metadata": {
    "collapsed": false
   }
  },
  {
   "cell_type": "code",
   "execution_count": 1411,
   "outputs": [],
   "source": [
    "def recommend_movies(np_ratings, user_id, item_id):\n",
    "    return rating_predictions_2(np_ratings, user_id, item_id, pearson_correlation)"
   ],
   "metadata": {
    "collapsed": false
   }
  },
  {
   "cell_type": "code",
   "execution_count": null,
   "outputs": [],
   "source": [
    "test_data['rec_rating'] = test_data.apply(lambda row: recommend_movies(np_ratings, row['userid'], row['itemid']), axis=1)\n",
    "test_data['rating'] = test_data.apply(lambda row: float(row['rating']), axis=1)\n",
    "\n",
    "test_data.head()"
   ],
   "metadata": {
    "collapsed": false,
    "pycharm": {
     "is_executing": true
    }
   }
  },
  {
   "cell_type": "markdown",
   "source": [
    "### Метрики для предсказаний"
   ],
   "metadata": {
    "collapsed": false
   }
  },
  {
   "cell_type": "code",
   "execution_count": null,
   "outputs": [],
   "source": [
    "from sklearn.metrics import precision_score, recall_score, f1_score\n",
    "from sklearn.metrics import mean_squared_error, mean_absolute_error\n",
    "\n",
    "\n",
    "rmse = np.sqrt(mean_squared_error(test_data['rating'], test_data['rec_rating']))\n",
    "mae = mean_absolute_error(test_data['rating'], test_data['rec_rating'])\n",
    "\n",
    "test_data['predicted_class'] = test_data['rec_rating'].round(0).astype(int)\n",
    "\n",
    "precision = precision_score(test_data['rating'], test_data['predicted_class'], average = 'weighted')\n",
    "recall = recall_score(test_data['rating'], test_data['predicted_class'], average = 'weighted')\n",
    "f1 = f1_score(test_data['rating'], test_data['predicted_class'], average = 'weighted')\n",
    "\n",
    "print(f\"Precision: {precision:.2f}\")\n",
    "print(f\"Recall: {recall:.2f}\")\n",
    "print(f\"F1-score: {f1:.2f}\")\n",
    "\n",
    "print(f\"RMSE: {rmse}\")\n",
    "print(f\"MAE: {mae}\")\n",
    "test_data"
   ],
   "metadata": {
    "collapsed": false,
    "pycharm": {
     "is_executing": true
    }
   }
  },
  {
   "cell_type": "markdown",
   "source": [
    "### 4 Задание"
   ],
   "metadata": {
    "collapsed": false
   }
  },
  {
   "cell_type": "markdown",
   "source": [
    "### Выберите от 10 до 50 своих любимых фильмов"
   ],
   "metadata": {
    "collapsed": false
   }
  },
  {
   "cell_type": "code",
   "execution_count": null,
   "outputs": [],
   "source": [
    "ratings, movies = ml100k.load()\n",
    "my_user_index\n",
    "ratings"
   ],
   "metadata": {
    "collapsed": false,
    "pycharm": {
     "is_executing": true
    }
   }
  },
  {
   "cell_type": "code",
   "execution_count": null,
   "outputs": [],
   "source": [
    "my_favourite_movies = [1, 96, 100, 23, 29, 50, 67, 72, 89, 95, 98, 121, 127, 135, 151, 161, 178, 181, 196, 204, 210, 225, 222, 227, 228, 229, 230, 231, 250]"
   ],
   "metadata": {
    "collapsed": false,
    "pycharm": {
     "is_executing": true
    }
   }
  },
  {
   "cell_type": "code",
   "execution_count": null,
   "outputs": [],
   "source": [
    "np_movies = movies.to_numpy()\n",
    "np_movies"
   ],
   "metadata": {
    "collapsed": false,
    "pycharm": {
     "is_executing": true
    }
   }
  },
  {
   "cell_type": "code",
   "execution_count": null,
   "outputs": [],
   "source": [
    "ratings, uencoder, iencoder = ids_encoder(ratings)\n",
    "np_ratings = ratings.to_numpy()\n",
    "np_ratings"
   ],
   "metadata": {
    "collapsed": false,
    "pycharm": {
     "is_executing": true
    }
   }
  },
  {
   "cell_type": "markdown",
   "source": [],
   "metadata": {
    "collapsed": false
   }
  },
  {
   "cell_type": "markdown",
   "source": [
    "### Топ-10 рекомендаций по каждому из 6 методов"
   ],
   "metadata": {
    "collapsed": false
   }
  },
  {
   "cell_type": "code",
   "execution_count": null,
   "outputs": [],
   "source": [
    "def candidate_items(\n",
    "    np_ratings: np.array, userid: int, k=-1\n",
    ") -> tp.Tuple[np.array, np.array]:\n",
    "    user_movies = np_ratings[np_ratings[:, 0] == userid][:, 1]\n",
    "    all_movies = np.unique(np_ratings[:, 1])\n",
    "\n",
    "    return np.setdiff1d(all_movies, user_movies)"
   ],
   "metadata": {
    "collapsed": false,
    "pycharm": {
     "is_executing": true
    }
   }
  },
  {
   "cell_type": "code",
   "execution_count": null,
   "outputs": [],
   "source": [
    "candidates = candidate_items(np_ratings, my_user_index - 1)\n",
    "\n",
    "print(\"Candidates:\", len(candidates))\n",
    "candidates"
   ],
   "metadata": {
    "collapsed": false,
    "pycharm": {
     "is_executing": true
    }
   }
  },
  {
   "cell_type": "code",
   "execution_count": null,
   "outputs": [],
   "source": [
    "def topn_recommendations(rating_predictions, similarity_func, k = 10):\n",
    "    candidates_with_ratings = []\n",
    "    for id in candidates:\n",
    "        candidates_with_ratings.append((rating_predictions(np_ratings, my_user_index - 1, id, similarity_func), id))\n",
    "    candidates_with_ratings = sorted(candidates_with_ratings, reverse=True)\n",
    "    return candidates_with_ratings[:k]"
   ],
   "metadata": {
    "collapsed": false,
    "pycharm": {
     "is_executing": true
    }
   }
  },
  {
   "cell_type": "code",
   "execution_count": null,
   "outputs": [],
   "source": [
    "jaccard_similarity(np_ratings, my_user_index - 1, 6)"
   ],
   "metadata": {
    "collapsed": false,
    "pycharm": {
     "is_executing": true
    }
   }
  },
  {
   "cell_type": "code",
   "execution_count": null,
   "outputs": [],
   "source": [
    "top1 = topn_recommendations(rating_predictions_1, jaccard_similarity)\n",
    "top2 = topn_recommendations(rating_predictions_1, dot_product_similarity)\n",
    "top3 = topn_recommendations(rating_predictions_1, pearson_correlation)\n",
    "top4 = topn_recommendations(rating_predictions_2, jaccard_similarity)\n",
    "top5 = topn_recommendations(rating_predictions_2, dot_product_similarity)\n",
    "top6 = topn_recommendations(rating_predictions_2, pearson_correlation)"
   ],
   "metadata": {
    "collapsed": false,
    "pycharm": {
     "is_executing": true
    }
   }
  }
 ],
 "metadata": {
  "kernelspec": {
   "display_name": "Python 3",
   "language": "python",
   "name": "python3"
  },
  "language_info": {
   "codemirror_mode": {
    "name": "ipython",
    "version": 2
   },
   "file_extension": ".py",
   "mimetype": "text/x-python",
   "name": "python",
   "nbconvert_exporter": "python",
   "pygments_lexer": "ipython2",
   "version": "2.7.6"
  }
 },
 "nbformat": 4,
 "nbformat_minor": 0
}
