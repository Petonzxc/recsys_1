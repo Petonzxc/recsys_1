{
 "cells": [
  {
   "cell_type": "code",
   "execution_count": 2,
   "metadata": {
    "collapsed": true
   },
   "outputs": [],
   "source": [
    "import os\n",
    "import sys\n",
    "import typing as tp\n",
    "\n",
    "import joblib\n",
    "import numpy as np\n",
    "import pandas as pd\n",
    "import tqdm.notebook\n",
    "from recsys.datasets import ml1m, ml100k\n",
    "from sklearn.preprocessing import LabelEncoder"
   ]
  },
  {
   "cell_type": "code",
   "execution_count": 3,
   "outputs": [],
   "source": [
    "%load_ext autoreload\n",
    "%autoreload 2"
   ],
   "metadata": {
    "collapsed": false
   }
  },
  {
   "cell_type": "code",
   "execution_count": 4,
   "outputs": [
    {
     "data": {
      "text/plain": "   userid  itemid  rating\n0       1       1       5\n1       1       2       3\n2       1       3       4\n3       1       4       3\n4       1       5       3",
      "text/html": "<div>\n<style scoped>\n    .dataframe tbody tr th:only-of-type {\n        vertical-align: middle;\n    }\n\n    .dataframe tbody tr th {\n        vertical-align: top;\n    }\n\n    .dataframe thead th {\n        text-align: right;\n    }\n</style>\n<table border=\"1\" class=\"dataframe\">\n  <thead>\n    <tr style=\"text-align: right;\">\n      <th></th>\n      <th>userid</th>\n      <th>itemid</th>\n      <th>rating</th>\n    </tr>\n  </thead>\n  <tbody>\n    <tr>\n      <th>0</th>\n      <td>1</td>\n      <td>1</td>\n      <td>5</td>\n    </tr>\n    <tr>\n      <th>1</th>\n      <td>1</td>\n      <td>2</td>\n      <td>3</td>\n    </tr>\n    <tr>\n      <th>2</th>\n      <td>1</td>\n      <td>3</td>\n      <td>4</td>\n    </tr>\n    <tr>\n      <th>3</th>\n      <td>1</td>\n      <td>4</td>\n      <td>3</td>\n    </tr>\n    <tr>\n      <th>4</th>\n      <td>1</td>\n      <td>5</td>\n      <td>3</td>\n    </tr>\n  </tbody>\n</table>\n</div>"
     },
     "execution_count": 4,
     "metadata": {},
     "output_type": "execute_result"
    }
   ],
   "source": [
    "ratings, movies = ml100k.load()\n",
    "ratings.head()"
   ],
   "metadata": {
    "collapsed": false
   }
  },
  {
   "cell_type": "code",
   "execution_count": 5,
   "outputs": [
    {
     "data": {
      "text/plain": "   itemid              title\n0       1   Toy Story (1995)\n1       2   GoldenEye (1995)\n2       3  Four Rooms (1995)\n3       4  Get Shorty (1995)\n4       5     Copycat (1995)",
      "text/html": "<div>\n<style scoped>\n    .dataframe tbody tr th:only-of-type {\n        vertical-align: middle;\n    }\n\n    .dataframe tbody tr th {\n        vertical-align: top;\n    }\n\n    .dataframe thead th {\n        text-align: right;\n    }\n</style>\n<table border=\"1\" class=\"dataframe\">\n  <thead>\n    <tr style=\"text-align: right;\">\n      <th></th>\n      <th>itemid</th>\n      <th>title</th>\n    </tr>\n  </thead>\n  <tbody>\n    <tr>\n      <th>0</th>\n      <td>1</td>\n      <td>Toy Story (1995)</td>\n    </tr>\n    <tr>\n      <th>1</th>\n      <td>2</td>\n      <td>GoldenEye (1995)</td>\n    </tr>\n    <tr>\n      <th>2</th>\n      <td>3</td>\n      <td>Four Rooms (1995)</td>\n    </tr>\n    <tr>\n      <th>3</th>\n      <td>4</td>\n      <td>Get Shorty (1995)</td>\n    </tr>\n    <tr>\n      <th>4</th>\n      <td>5</td>\n      <td>Copycat (1995)</td>\n    </tr>\n  </tbody>\n</table>\n</div>"
     },
     "execution_count": 5,
     "metadata": {},
     "output_type": "execute_result"
    }
   ],
   "source": [
    "movies.head()"
   ],
   "metadata": {
    "collapsed": false
   }
  },
  {
   "cell_type": "code",
   "execution_count": 6,
   "outputs": [
    {
     "data": {
      "text/plain": "        userid  itemid  rating\n0            1       1       5\n1            1       2       3\n2            1       3       4\n3            1       4       3\n4            1       5       3\n...        ...     ...     ...\n100024     944     204       4\n100025     944     210       4\n100026     944     228       4\n100027     944     229       4\n100028     944     231       4\n\n[100029 rows x 3 columns]",
      "text/html": "<div>\n<style scoped>\n    .dataframe tbody tr th:only-of-type {\n        vertical-align: middle;\n    }\n\n    .dataframe tbody tr th {\n        vertical-align: top;\n    }\n\n    .dataframe thead th {\n        text-align: right;\n    }\n</style>\n<table border=\"1\" class=\"dataframe\">\n  <thead>\n    <tr style=\"text-align: right;\">\n      <th></th>\n      <th>userid</th>\n      <th>itemid</th>\n      <th>rating</th>\n    </tr>\n  </thead>\n  <tbody>\n    <tr>\n      <th>0</th>\n      <td>1</td>\n      <td>1</td>\n      <td>5</td>\n    </tr>\n    <tr>\n      <th>1</th>\n      <td>1</td>\n      <td>2</td>\n      <td>3</td>\n    </tr>\n    <tr>\n      <th>2</th>\n      <td>1</td>\n      <td>3</td>\n      <td>4</td>\n    </tr>\n    <tr>\n      <th>3</th>\n      <td>1</td>\n      <td>4</td>\n      <td>3</td>\n    </tr>\n    <tr>\n      <th>4</th>\n      <td>1</td>\n      <td>5</td>\n      <td>3</td>\n    </tr>\n    <tr>\n      <th>...</th>\n      <td>...</td>\n      <td>...</td>\n      <td>...</td>\n    </tr>\n    <tr>\n      <th>100024</th>\n      <td>944</td>\n      <td>204</td>\n      <td>4</td>\n    </tr>\n    <tr>\n      <th>100025</th>\n      <td>944</td>\n      <td>210</td>\n      <td>4</td>\n    </tr>\n    <tr>\n      <th>100026</th>\n      <td>944</td>\n      <td>228</td>\n      <td>4</td>\n    </tr>\n    <tr>\n      <th>100027</th>\n      <td>944</td>\n      <td>229</td>\n      <td>4</td>\n    </tr>\n    <tr>\n      <th>100028</th>\n      <td>944</td>\n      <td>231</td>\n      <td>4</td>\n    </tr>\n  </tbody>\n</table>\n<p>100029 rows × 3 columns</p>\n</div>"
     },
     "execution_count": 6,
     "metadata": {},
     "output_type": "execute_result"
    }
   ],
   "source": [
    "my_favourite_movies = [1, 96, 100, 23, 29, 50, 67, 72, 89, 95, 98, 121, 127, 135, 151, 161, 178, 181, 196, 204, 210, 225, 222, 227, 228, 229, 230, 231, 250]\n",
    "\n",
    "my_favourite_movies5 = [1, 29, 50, 67, 95, 98, 121, 127, 178, 181, 225, 222, 227, 231, 250]\n",
    "\n",
    "my_favourite_movies4 = [96, 100, 23, 72, 89, 135, 151, 161, 196, 204, 210, 228, 229, 231]\n",
    "assert len(my_favourite_movies4) + len(my_favourite_movies5) == len(my_favourite_movies)\n",
    "\n",
    "my_user_index = max(ratings['userid']) + 1\n",
    "for id in my_favourite_movies5:\n",
    "    new_rows = pd.DataFrame({\n",
    "        'userid': [my_user_index],\n",
    "        'itemid': [id],\n",
    "        'rating': [5]\n",
    "    }, index=[0])\n",
    "    ratings = pd.concat([ratings, new_rows], ignore_index=True)\n",
    "for id in my_favourite_movies4:\n",
    "    new_rows = pd.DataFrame({\n",
    "        'userid': [my_user_index],\n",
    "        'itemid': [id],\n",
    "        'rating': [4]\n",
    "    }, index=[0])\n",
    "    ratings = pd.concat([ratings, new_rows], ignore_index=True)\n",
    "ratings"
   ],
   "metadata": {
    "collapsed": false
   }
  },
  {
   "cell_type": "markdown",
   "source": [
    "### Preprocessing"
   ],
   "metadata": {
    "collapsed": false
   }
  },
  {
   "cell_type": "code",
   "execution_count": 7,
   "outputs": [],
   "source": [
    "def ids_encoder(ratings):\n",
    "    users = sorted(ratings[\"userid\"].unique())\n",
    "    items = sorted(ratings[\"itemid\"].unique())\n",
    "\n",
    "    # create users and items encoders\n",
    "    uencoder = LabelEncoder()\n",
    "    iencoder = LabelEncoder()\n",
    "\n",
    "    # fit users and items ids to the corresponding encoder\n",
    "    uencoder.fit(users)\n",
    "    iencoder.fit(items)\n",
    "\n",
    "    # encode userids and itemids\n",
    "    ratings.userid = uencoder.transform(ratings.userid.tolist())\n",
    "    ratings.itemid = iencoder.transform(ratings.itemid.tolist())\n",
    "\n",
    "    return ratings, uencoder, iencoder"
   ],
   "metadata": {
    "collapsed": false
   }
  },
  {
   "cell_type": "code",
   "execution_count": 8,
   "outputs": [
    {
     "data": {
      "text/plain": "        userid  itemid  rating\n0            0       0       5\n1            0       1       3\n2            0       2       4\n3            0       3       3\n4            0       4       3\n...        ...     ...     ...\n100024     943     203       4\n100025     943     209       4\n100026     943     227       4\n100027     943     228       4\n100028     943     230       4\n\n[100029 rows x 3 columns]",
      "text/html": "<div>\n<style scoped>\n    .dataframe tbody tr th:only-of-type {\n        vertical-align: middle;\n    }\n\n    .dataframe tbody tr th {\n        vertical-align: top;\n    }\n\n    .dataframe thead th {\n        text-align: right;\n    }\n</style>\n<table border=\"1\" class=\"dataframe\">\n  <thead>\n    <tr style=\"text-align: right;\">\n      <th></th>\n      <th>userid</th>\n      <th>itemid</th>\n      <th>rating</th>\n    </tr>\n  </thead>\n  <tbody>\n    <tr>\n      <th>0</th>\n      <td>0</td>\n      <td>0</td>\n      <td>5</td>\n    </tr>\n    <tr>\n      <th>1</th>\n      <td>0</td>\n      <td>1</td>\n      <td>3</td>\n    </tr>\n    <tr>\n      <th>2</th>\n      <td>0</td>\n      <td>2</td>\n      <td>4</td>\n    </tr>\n    <tr>\n      <th>3</th>\n      <td>0</td>\n      <td>3</td>\n      <td>3</td>\n    </tr>\n    <tr>\n      <th>4</th>\n      <td>0</td>\n      <td>4</td>\n      <td>3</td>\n    </tr>\n    <tr>\n      <th>...</th>\n      <td>...</td>\n      <td>...</td>\n      <td>...</td>\n    </tr>\n    <tr>\n      <th>100024</th>\n      <td>943</td>\n      <td>203</td>\n      <td>4</td>\n    </tr>\n    <tr>\n      <th>100025</th>\n      <td>943</td>\n      <td>209</td>\n      <td>4</td>\n    </tr>\n    <tr>\n      <th>100026</th>\n      <td>943</td>\n      <td>227</td>\n      <td>4</td>\n    </tr>\n    <tr>\n      <th>100027</th>\n      <td>943</td>\n      <td>228</td>\n      <td>4</td>\n    </tr>\n    <tr>\n      <th>100028</th>\n      <td>943</td>\n      <td>230</td>\n      <td>4</td>\n    </tr>\n  </tbody>\n</table>\n<p>100029 rows × 3 columns</p>\n</div>"
     },
     "execution_count": 8,
     "metadata": {},
     "output_type": "execute_result"
    }
   ],
   "source": [
    "# create the encoder\n",
    "ratings, uencoder, iencoder = ids_encoder(ratings)\n",
    "ratings"
   ],
   "metadata": {
    "collapsed": false
   }
  },
  {
   "cell_type": "code",
   "execution_count": 24,
   "outputs": [],
   "source": [
    "from sklearn.model_selection import train_test_split\n",
    "train_data, test_data = train_test_split(ratings, test_size=0.2)\n",
    "train_data, valid_data = train_test_split(train_data, test_size=0.25)\n",
    "\n",
    "np_ratings = train_data.to_numpy()\n",
    "all_ratings = ratings.to_numpy()"
   ],
   "metadata": {
    "collapsed": false
   }
  },
  {
   "cell_type": "markdown",
   "source": [
    "## 1 Задание"
   ],
   "metadata": {
    "collapsed": false
   }
  },
  {
   "cell_type": "code",
   "execution_count": 178,
   "outputs": [],
   "source": [
    "from functools import lru_cache\n",
    "\n",
    "@lru_cache(5000)\n",
    "def ratings_for_user(i):\n",
    "    return all_ratings[all_ratings[:, 0] == i]"
   ],
   "metadata": {
    "collapsed": false
   }
  },
  {
   "cell_type": "markdown",
   "source": [
    "### Коэффициент Жаккара"
   ],
   "metadata": {
    "collapsed": false
   }
  },
  {
   "cell_type": "code",
   "execution_count": 179,
   "outputs": [
    {
     "name": "stdout",
     "output_type": "stream",
     "text": [
      "0.056962025316455694\n"
     ]
    }
   ],
   "source": [
    "def jaccard_similarity(np_ratings, i: int, j: int) -> float:\n",
    "    if i == j:\n",
    "        return 1.0\n",
    "\n",
    "    ratings_i, ratings_j = ratings_for_user(i), ratings_for_user(j)\n",
    "    movies_user1 = ratings_i[:, 1]\n",
    "    movies_user2 = ratings_j[:, 1]\n",
    "\n",
    "    common_movies = np.intersect1d(movies_user1, movies_user2)\n",
    "    all_movies = np.union1d(movies_user1, movies_user2)\n",
    "\n",
    "    jaccard_index = len(common_movies) / len(all_movies)\n",
    "\n",
    "    return jaccard_index\n",
    "\n",
    "assert np.isclose(jaccard_similarity(np_ratings, 0, 0), 1.0)\n",
    "print(jaccard_similarity(np_ratings, 0, 1))"
   ],
   "metadata": {
    "collapsed": false
   }
  },
  {
   "cell_type": "markdown",
   "source": [
    "### Скалярное произведение общих рейтингов"
   ],
   "metadata": {
    "collapsed": false
   }
  },
  {
   "cell_type": "code",
   "execution_count": 188,
   "outputs": [
    {
     "name": "stdout",
     "output_type": "stream",
     "text": [
      "0.9605819645600208\n"
     ]
    }
   ],
   "source": [
    "def dot_product_similarity(np_ratings, i: int, j: int) -> float:\n",
    "    if i == j:\n",
    "        return 1.0\n",
    "\n",
    "    ratings_i, ratings_j = ratings_for_user(i), ratings_for_user(j)\n",
    "\n",
    "    common_movies = np.intersect1d(ratings_i[:, 1], ratings_j[:, 1])\n",
    "\n",
    "    common_ratings_i = ratings_i[np.isin(ratings_i[:, 1], common_movies)]\n",
    "    common_ratings_j = ratings_j[np.isin(ratings_j[:, 1], common_movies)]\n",
    "\n",
    "    x = common_ratings_i[:, 2]\n",
    "    y = common_ratings_j[:, 2]\n",
    "\n",
    "    similarity = np.dot(x, y) / (np.linalg.norm(x) * np.linalg.norm(y))\n",
    "    if not np.isnan(similarity):\n",
    "        return similarity\n",
    "    else:\n",
    "        return 0\n",
    "\n",
    "print(dot_product_similarity(np_ratings, 0, 1))\n",
    "assert np.isclose(dot_product_similarity(np_ratings, 0, 0), 1.0)"
   ],
   "metadata": {
    "collapsed": false
   }
  },
  {
   "cell_type": "markdown",
   "source": [
    "### Скорректированная Кореляция Пирсона"
   ],
   "metadata": {
    "collapsed": false
   }
  },
  {
   "cell_type": "code",
   "execution_count": 181,
   "outputs": [
    {
     "name": "stdout",
     "output_type": "stream",
     "text": [
      "-0.0017341664853389787\n",
      "-0.055524917387262014\n"
     ]
    }
   ],
   "source": [
    "def pearson_correlation(np_ratings, i: int, j: int) -> float:\n",
    "    if i == j:\n",
    "        return 1.0\n",
    "\n",
    "    ratings_i, ratings_j = ratings_for_user(i), ratings_for_user(j)\n",
    "\n",
    "    mean_user1 = np.mean(ratings_i[:, 2])\n",
    "    mean_user2 = np.mean(ratings_j[:, 2])\n",
    "\n",
    "    numerator = sum([(rating_user1 - mean_user1) * (rating_user2 - mean_user2) for rating_user1, rating_user2 in zip(ratings_i[:, 2], ratings_j[:, 2])])\n",
    "    denominator = np.sqrt(sum([(rating_user1 - mean_user1)**2 for rating_user1 in ratings_i[:, 2]]) * sum([(rating_user2 - mean_user2)**2 for rating_user2 in ratings_j[:, 2]]))\n",
    "\n",
    "    pearson_corr = numerator / denominator if denominator != 0 else numerator\n",
    "\n",
    "    common_movies = np.intersect1d(ratings_i[:, 1], ratings_j[:, 1])\n",
    "    coef = min(1, len(common_movies) / 50)\n",
    "    if np.isclose(coef, 0.0):\n",
    "        coef = 1\n",
    "    return pearson_corr * coef\n",
    "\n",
    "print(pearson_correlation(np_ratings, 0, 1))\n",
    "print(pearson_correlation(np_ratings, 2, 3))\n",
    "assert np.isclose(pearson_correlation(np_ratings, 0, 0), 1.0)"
   ],
   "metadata": {
    "collapsed": false
   }
  },
  {
   "cell_type": "markdown",
   "source": [
    "### 2 Задание"
   ],
   "metadata": {
    "collapsed": false
   }
  },
  {
   "cell_type": "markdown",
   "source": [
    "### Простое усреднение по ближайшим соседям"
   ],
   "metadata": {
    "collapsed": false
   }
  },
  {
   "cell_type": "code",
   "execution_count": 14,
   "outputs": [
    {
     "data": {
      "text/plain": "[(215, 0.19198244073602577),\n (289, 0.15562120535833365),\n (520, 0.1541336664798384),\n (902, 0.14563465544661258),\n (880, 0.13499841828857773),\n (393, 0.1300649526313339),\n (746, 0.12762826201639674),\n (338, 0.11971270022230987),\n (756, 0.11654563916696431),\n (304, 0.11219384099355088),\n (842, 0.11190864773468465),\n (291, 0.11101521774217658),\n (5, 0.10884336960670629),\n (822, 0.10425880712130255),\n (177, 0.09892540222191905),\n (882, 0.09855213929887945),\n (886, 0.0962804110066975),\n (649, 0.09481845681661784),\n (57, 0.0933495883242139),\n (587, 0.09077879151430997),\n (652, 0.08831161799534844),\n (535, 0.08639127789745854),\n (477, 0.08456780665622526),\n (891, 0.08196022132409109),\n (683, 0.08150522168254352),\n (349, 0.0765146463935229),\n (664, 0.07640379163899759),\n (544, 0.07526396656320619),\n (804, 0.07269969765656498),\n (793, 0.07247636462903895),\n (592, 0.07088775761687334),\n (647, 0.07030212871394699),\n (342, 0.06901479361953161),\n (326, 0.06825960537811308),\n (660, 0.06814210394356963),\n (653, 0.06465761868971755),\n (293, 0.06444432619905027),\n (926, 0.0636240108503025),\n (532, 0.06259029301475563),\n (74, 0.06257249443703493),\n (829, 0.06170556449842271),\n (278, 0.06040163442846506),\n (323, 0.05940674715329535),\n (242, 0.0588371378334771),\n (609, 0.05742902845321645),\n (81, 0.05732670953709232),\n (14, 0.055929453493390166),\n (40, 0.05588757911326253),\n (893, 0.05371564051501121),\n (69, 0.05276529094418585)]"
     },
     "execution_count": 14,
     "metadata": {},
     "output_type": "execute_result"
    }
   ],
   "source": [
    "def get_neighbors(np_ratings, user, movie_id, similarity_func, k=50):\n",
    "    users_similarity = []\n",
    "    users = np.unique(np_ratings[np_ratings[:, 1] == movie_id][:, 0])\n",
    "    for cur_user in users:\n",
    "        if cur_user != user:\n",
    "            similarity = similarity_func(np_ratings, cur_user, user)\n",
    "            users_similarity.append((cur_user, similarity))\n",
    "\n",
    "    users_similarity = sorted(users_similarity, key=lambda x: x[1], reverse=True)\n",
    "    k = min(k, len(users_similarity))\n",
    "    top_k_neighbors = users_similarity[:k]\n",
    "\n",
    "    return top_k_neighbors\n",
    "\n",
    "get_neighbors(np_ratings, 0, 0, pearson_correlation)"
   ],
   "metadata": {
    "collapsed": false
   }
  },
  {
   "cell_type": "code",
   "execution_count": 15,
   "outputs": [
    {
     "data": {
      "text/plain": "array([[ 451,  244,    2],\n       [ 654, 1637,    3],\n       [ 866,  167,    4],\n       ...,\n       [ 773,  417,    2],\n       [ 415,  497,    4],\n       [ 267,  204,    5]])"
     },
     "execution_count": 15,
     "metadata": {},
     "output_type": "execute_result"
    }
   ],
   "source": [
    "np_ratings"
   ],
   "metadata": {
    "collapsed": false
   }
  },
  {
   "cell_type": "code",
   "execution_count": 16,
   "outputs": [],
   "source": [
    "from functools import lru_cache\n",
    "\n",
    "@lru_cache(5000)\n",
    "def movie_rating_for_user(user, movie_id) -> float:\n",
    "    ratings = ratings_for_user(user)\n",
    "    return ratings[ratings[:, 1] == movie_id][0][2]\n",
    "\n",
    "assert movie_rating_for_user(917, 198) == 3"
   ],
   "metadata": {
    "collapsed": false
   }
  },
  {
   "cell_type": "code",
   "execution_count": 17,
   "outputs": [
    {
     "data": {
      "text/plain": "4.064333352703202"
     },
     "execution_count": 17,
     "metadata": {},
     "output_type": "execute_result"
    }
   ],
   "source": [
    "def rating_predictions_1(np_ratings, user, movie_id, similarity_func, k=50):\n",
    "   neighbors = get_neighbors(np_ratings, user, movie_id, similarity_func, k)\n",
    "\n",
    "   numerator = sum([similarity * movie_rating_for_user(user1, movie_id) for user1, similarity in neighbors])\n",
    "   denominator = sum([abs(similarity) for user1, similarity in neighbors])\n",
    "\n",
    "   return numerator / denominator\n",
    "\n",
    "rating_predictions_1(np_ratings, 0, 0, pearson_correlation)"
   ],
   "metadata": {
    "collapsed": false
   }
  },
  {
   "cell_type": "markdown",
   "source": [
    "### Усреднение с учётом коррекции среднего"
   ],
   "metadata": {
    "collapsed": false
   }
  },
  {
   "cell_type": "code",
   "execution_count": 18,
   "outputs": [
    {
     "data": {
      "text/plain": "4.057041006395044"
     },
     "execution_count": 18,
     "metadata": {},
     "output_type": "execute_result"
    }
   ],
   "source": [
    "def rating_predictions_2(np_ratings, user, movie_id, similarity_func, k=50):\n",
    "   neighbors = get_neighbors(np_ratings, user, movie_id, similarity_func, k)\n",
    "\n",
    "   ratings = ratings_for_user(user)\n",
    "   mean_user = np.mean(ratings[:, 2])\n",
    "\n",
    "   numerator = sum([similarity * (movie_rating_for_user(user1, movie_id) - np.mean(ratings_for_user(user1)[:, 2])) for user1, similarity in neighbors])\n",
    "   denominator = sum([abs(similarity) for user1, similarity in neighbors])\n",
    "\n",
    "   if denominator == 0.0:\n",
    "       return mean_user\n",
    "\n",
    "   return mean_user + (numerator / denominator)\n",
    "\n",
    "rating_predictions_2(np_ratings, 0, 0, pearson_correlation)"
   ],
   "metadata": {
    "collapsed": false
   }
  },
  {
   "cell_type": "markdown",
   "source": [
    "### 3 Задание"
   ],
   "metadata": {
    "collapsed": false
   }
  },
  {
   "cell_type": "markdown",
   "source": [
    "### Разделите датасет movielens на тренировочную и валидационную части. Постройте рекомендации для пользователей из валидационной части"
   ],
   "metadata": {
    "collapsed": false
   }
  },
  {
   "cell_type": "code",
   "execution_count": 19,
   "outputs": [
    {
     "data": {
      "text/plain": "       userid  itemid  rating\n21216     215     200       3\n7448       69     337       2\n95886     896     973       4\n65477     591     143       5\n49644     441     228       3",
      "text/html": "<div>\n<style scoped>\n    .dataframe tbody tr th:only-of-type {\n        vertical-align: middle;\n    }\n\n    .dataframe tbody tr th {\n        vertical-align: top;\n    }\n\n    .dataframe thead th {\n        text-align: right;\n    }\n</style>\n<table border=\"1\" class=\"dataframe\">\n  <thead>\n    <tr style=\"text-align: right;\">\n      <th></th>\n      <th>userid</th>\n      <th>itemid</th>\n      <th>rating</th>\n    </tr>\n  </thead>\n  <tbody>\n    <tr>\n      <th>21216</th>\n      <td>215</td>\n      <td>200</td>\n      <td>3</td>\n    </tr>\n    <tr>\n      <th>7448</th>\n      <td>69</td>\n      <td>337</td>\n      <td>2</td>\n    </tr>\n    <tr>\n      <th>95886</th>\n      <td>896</td>\n      <td>973</td>\n      <td>4</td>\n    </tr>\n    <tr>\n      <th>65477</th>\n      <td>591</td>\n      <td>143</td>\n      <td>5</td>\n    </tr>\n    <tr>\n      <th>49644</th>\n      <td>441</td>\n      <td>228</td>\n      <td>3</td>\n    </tr>\n  </tbody>\n</table>\n</div>"
     },
     "execution_count": 19,
     "metadata": {},
     "output_type": "execute_result"
    }
   ],
   "source": [
    "test_data.head()"
   ],
   "metadata": {
    "collapsed": false
   }
  },
  {
   "cell_type": "code",
   "execution_count": 25,
   "outputs": [
    {
     "data": {
      "text/plain": "       userid  itemid  rating\n346         2     301       2\n96076     899     293       4\n66021     594     819       2\n90003     848     171       5\n35535     326     734       2",
      "text/html": "<div>\n<style scoped>\n    .dataframe tbody tr th:only-of-type {\n        vertical-align: middle;\n    }\n\n    .dataframe tbody tr th {\n        vertical-align: top;\n    }\n\n    .dataframe thead th {\n        text-align: right;\n    }\n</style>\n<table border=\"1\" class=\"dataframe\">\n  <thead>\n    <tr style=\"text-align: right;\">\n      <th></th>\n      <th>userid</th>\n      <th>itemid</th>\n      <th>rating</th>\n    </tr>\n  </thead>\n  <tbody>\n    <tr>\n      <th>346</th>\n      <td>2</td>\n      <td>301</td>\n      <td>2</td>\n    </tr>\n    <tr>\n      <th>96076</th>\n      <td>899</td>\n      <td>293</td>\n      <td>4</td>\n    </tr>\n    <tr>\n      <th>66021</th>\n      <td>594</td>\n      <td>819</td>\n      <td>2</td>\n    </tr>\n    <tr>\n      <th>90003</th>\n      <td>848</td>\n      <td>171</td>\n      <td>5</td>\n    </tr>\n    <tr>\n      <th>35535</th>\n      <td>326</td>\n      <td>734</td>\n      <td>2</td>\n    </tr>\n  </tbody>\n</table>\n</div>"
     },
     "execution_count": 25,
     "metadata": {},
     "output_type": "execute_result"
    }
   ],
   "source": [
    "valid_data.head()"
   ],
   "metadata": {
    "collapsed": false
   }
  },
  {
   "cell_type": "code",
   "execution_count": 20,
   "outputs": [],
   "source": [
    "def recommend_movies(np_ratings, user_id, item_id):\n",
    "    return rating_predictions_2(np_ratings, user_id, item_id, pearson_correlation)"
   ],
   "metadata": {
    "collapsed": false
   }
  },
  {
   "cell_type": "code",
   "execution_count": 27,
   "outputs": [
    {
     "data": {
      "text/plain": "       userid  itemid  rating  rec_rating\n346         2     301     2.0    3.459586\n96076     899     293     4.0    1.939842\n66021     594     819     2.0    3.123016\n90003     848     171     5.0    5.519417\n35535     326     734     2.0    3.730626",
      "text/html": "<div>\n<style scoped>\n    .dataframe tbody tr th:only-of-type {\n        vertical-align: middle;\n    }\n\n    .dataframe tbody tr th {\n        vertical-align: top;\n    }\n\n    .dataframe thead th {\n        text-align: right;\n    }\n</style>\n<table border=\"1\" class=\"dataframe\">\n  <thead>\n    <tr style=\"text-align: right;\">\n      <th></th>\n      <th>userid</th>\n      <th>itemid</th>\n      <th>rating</th>\n      <th>rec_rating</th>\n    </tr>\n  </thead>\n  <tbody>\n    <tr>\n      <th>346</th>\n      <td>2</td>\n      <td>301</td>\n      <td>2.0</td>\n      <td>3.459586</td>\n    </tr>\n    <tr>\n      <th>96076</th>\n      <td>899</td>\n      <td>293</td>\n      <td>4.0</td>\n      <td>1.939842</td>\n    </tr>\n    <tr>\n      <th>66021</th>\n      <td>594</td>\n      <td>819</td>\n      <td>2.0</td>\n      <td>3.123016</td>\n    </tr>\n    <tr>\n      <th>90003</th>\n      <td>848</td>\n      <td>171</td>\n      <td>5.0</td>\n      <td>5.519417</td>\n    </tr>\n    <tr>\n      <th>35535</th>\n      <td>326</td>\n      <td>734</td>\n      <td>2.0</td>\n      <td>3.730626</td>\n    </tr>\n  </tbody>\n</table>\n</div>"
     },
     "execution_count": 27,
     "metadata": {},
     "output_type": "execute_result"
    }
   ],
   "source": [
    "valid_data['rec_rating'] = valid_data.apply(lambda row: recommend_movies(np_ratings, row['userid'], row['itemid']), axis=1)\n",
    "valid_data['rating'] = valid_data.apply(lambda row: float(row['rating']), axis=1)\n",
    "\n",
    "valid_data.head()"
   ],
   "metadata": {
    "collapsed": false
   }
  },
  {
   "cell_type": "markdown",
   "source": [
    "### Метрики для предсказаний"
   ],
   "metadata": {
    "collapsed": false
   }
  },
  {
   "cell_type": "code",
   "execution_count": 28,
   "outputs": [
    {
     "name": "stdout",
     "output_type": "stream",
     "text": [
      "Precision: 0.44\n",
      "Recall: 0.41\n",
      "F1-score: 0.37\n",
      "RMSE: 0.9840322929646342\n",
      "MAE: 0.7707491629363995\n"
     ]
    },
    {
     "name": "stderr",
     "output_type": "stream",
     "text": [
      "/Users/tyapkinpetr/PycharmProjects/recsys_v1/venv/lib/python3.11/site-packages/sklearn/metrics/_classification.py:1509: UndefinedMetricWarning: Recall is ill-defined and being set to 0.0 in labels with no true samples. Use `zero_division` parameter to control this behavior.\n",
      "  _warn_prf(average, modifier, f\"{metric.capitalize()} is\", len(result))\n"
     ]
    },
    {
     "data": {
      "text/plain": "       userid  itemid  rating  rec_rating  predicted_class\n346         2     301     2.0    3.459586                3\n96076     899     293     4.0    1.939842                2\n66021     594     819     2.0    3.123016                3\n90003     848     171     5.0    5.519417                6\n35535     326     734     2.0    3.730626                4\n...       ...     ...     ...         ...              ...\n79390     732     457     2.0    2.855937                3\n29537     289     929     3.0    3.304163                3\n68810     626     561     2.0    3.255726                3\n47940     426     679     5.0    4.235880                4\n74276     670     596     4.0    3.302285                3\n\n[20006 rows x 5 columns]",
      "text/html": "<div>\n<style scoped>\n    .dataframe tbody tr th:only-of-type {\n        vertical-align: middle;\n    }\n\n    .dataframe tbody tr th {\n        vertical-align: top;\n    }\n\n    .dataframe thead th {\n        text-align: right;\n    }\n</style>\n<table border=\"1\" class=\"dataframe\">\n  <thead>\n    <tr style=\"text-align: right;\">\n      <th></th>\n      <th>userid</th>\n      <th>itemid</th>\n      <th>rating</th>\n      <th>rec_rating</th>\n      <th>predicted_class</th>\n    </tr>\n  </thead>\n  <tbody>\n    <tr>\n      <th>346</th>\n      <td>2</td>\n      <td>301</td>\n      <td>2.0</td>\n      <td>3.459586</td>\n      <td>3</td>\n    </tr>\n    <tr>\n      <th>96076</th>\n      <td>899</td>\n      <td>293</td>\n      <td>4.0</td>\n      <td>1.939842</td>\n      <td>2</td>\n    </tr>\n    <tr>\n      <th>66021</th>\n      <td>594</td>\n      <td>819</td>\n      <td>2.0</td>\n      <td>3.123016</td>\n      <td>3</td>\n    </tr>\n    <tr>\n      <th>90003</th>\n      <td>848</td>\n      <td>171</td>\n      <td>5.0</td>\n      <td>5.519417</td>\n      <td>6</td>\n    </tr>\n    <tr>\n      <th>35535</th>\n      <td>326</td>\n      <td>734</td>\n      <td>2.0</td>\n      <td>3.730626</td>\n      <td>4</td>\n    </tr>\n    <tr>\n      <th>...</th>\n      <td>...</td>\n      <td>...</td>\n      <td>...</td>\n      <td>...</td>\n      <td>...</td>\n    </tr>\n    <tr>\n      <th>79390</th>\n      <td>732</td>\n      <td>457</td>\n      <td>2.0</td>\n      <td>2.855937</td>\n      <td>3</td>\n    </tr>\n    <tr>\n      <th>29537</th>\n      <td>289</td>\n      <td>929</td>\n      <td>3.0</td>\n      <td>3.304163</td>\n      <td>3</td>\n    </tr>\n    <tr>\n      <th>68810</th>\n      <td>626</td>\n      <td>561</td>\n      <td>2.0</td>\n      <td>3.255726</td>\n      <td>3</td>\n    </tr>\n    <tr>\n      <th>47940</th>\n      <td>426</td>\n      <td>679</td>\n      <td>5.0</td>\n      <td>4.235880</td>\n      <td>4</td>\n    </tr>\n    <tr>\n      <th>74276</th>\n      <td>670</td>\n      <td>596</td>\n      <td>4.0</td>\n      <td>3.302285</td>\n      <td>3</td>\n    </tr>\n  </tbody>\n</table>\n<p>20006 rows × 5 columns</p>\n</div>"
     },
     "execution_count": 28,
     "metadata": {},
     "output_type": "execute_result"
    }
   ],
   "source": [
    "from sklearn.metrics import precision_score, recall_score, f1_score\n",
    "from sklearn.metrics import mean_squared_error, mean_absolute_error\n",
    "\n",
    "\n",
    "rmse = np.sqrt(mean_squared_error(valid_data['rating'], valid_data['rec_rating']))\n",
    "mae = mean_absolute_error(valid_data['rating'], valid_data['rec_rating'])\n",
    "\n",
    "valid_data['predicted_class'] = valid_data['rec_rating'].round(0).astype(int)\n",
    "\n",
    "precision = precision_score(valid_data['rating'], valid_data['predicted_class'], average = 'weighted')\n",
    "recall = recall_score(valid_data['rating'], valid_data['predicted_class'], average = 'weighted')\n",
    "f1 = f1_score(valid_data['rating'], valid_data['predicted_class'], average = 'weighted')\n",
    "\n",
    "print(f\"Precision: {precision:.2f}\")\n",
    "print(f\"Recall: {recall:.2f}\")\n",
    "print(f\"F1-score: {f1:.2f}\")\n",
    "\n",
    "print(f\"RMSE: {rmse}\")\n",
    "print(f\"MAE: {mae}\")\n",
    "valid_data"
   ],
   "metadata": {
    "collapsed": false
   }
  },
  {
   "cell_type": "markdown",
   "source": [
    "### 4 Задание"
   ],
   "metadata": {
    "collapsed": false
   }
  },
  {
   "cell_type": "markdown",
   "source": [
    "### Выберите от 10 до 50 своих любимых фильмов"
   ],
   "metadata": {
    "collapsed": false
   }
  },
  {
   "cell_type": "code",
   "execution_count": 29,
   "outputs": [
    {
     "data": {
      "text/plain": "       userid  itemid  rating\n0           1       1       5\n1           1       2       3\n2           1       3       4\n3           1       4       3\n4           1       5       3\n...       ...     ...     ...\n99995     943    1067       2\n99996     943    1074       4\n99997     943    1188       3\n99998     943    1228       3\n99999     943    1330       3\n\n[100000 rows x 3 columns]",
      "text/html": "<div>\n<style scoped>\n    .dataframe tbody tr th:only-of-type {\n        vertical-align: middle;\n    }\n\n    .dataframe tbody tr th {\n        vertical-align: top;\n    }\n\n    .dataframe thead th {\n        text-align: right;\n    }\n</style>\n<table border=\"1\" class=\"dataframe\">\n  <thead>\n    <tr style=\"text-align: right;\">\n      <th></th>\n      <th>userid</th>\n      <th>itemid</th>\n      <th>rating</th>\n    </tr>\n  </thead>\n  <tbody>\n    <tr>\n      <th>0</th>\n      <td>1</td>\n      <td>1</td>\n      <td>5</td>\n    </tr>\n    <tr>\n      <th>1</th>\n      <td>1</td>\n      <td>2</td>\n      <td>3</td>\n    </tr>\n    <tr>\n      <th>2</th>\n      <td>1</td>\n      <td>3</td>\n      <td>4</td>\n    </tr>\n    <tr>\n      <th>3</th>\n      <td>1</td>\n      <td>4</td>\n      <td>3</td>\n    </tr>\n    <tr>\n      <th>4</th>\n      <td>1</td>\n      <td>5</td>\n      <td>3</td>\n    </tr>\n    <tr>\n      <th>...</th>\n      <td>...</td>\n      <td>...</td>\n      <td>...</td>\n    </tr>\n    <tr>\n      <th>99995</th>\n      <td>943</td>\n      <td>1067</td>\n      <td>2</td>\n    </tr>\n    <tr>\n      <th>99996</th>\n      <td>943</td>\n      <td>1074</td>\n      <td>4</td>\n    </tr>\n    <tr>\n      <th>99997</th>\n      <td>943</td>\n      <td>1188</td>\n      <td>3</td>\n    </tr>\n    <tr>\n      <th>99998</th>\n      <td>943</td>\n      <td>1228</td>\n      <td>3</td>\n    </tr>\n    <tr>\n      <th>99999</th>\n      <td>943</td>\n      <td>1330</td>\n      <td>3</td>\n    </tr>\n  </tbody>\n</table>\n<p>100000 rows × 3 columns</p>\n</div>"
     },
     "execution_count": 29,
     "metadata": {},
     "output_type": "execute_result"
    }
   ],
   "source": [
    "ratings, movies = ml100k.load()\n",
    "my_user_index\n",
    "ratings"
   ],
   "metadata": {
    "collapsed": false
   }
  },
  {
   "cell_type": "code",
   "execution_count": 45,
   "outputs": [],
   "source": [
    "my_favourite_movies = [0, 95, 99, 22, 28, 49, 66, 71, 88, 94, 97, 120, 126, 134, 150, 160, 177, 180, 195, 203, 209, 224, 221, 226, 227, 228, 229, 230, 249]"
   ],
   "metadata": {
    "collapsed": false
   }
  },
  {
   "cell_type": "code",
   "execution_count": 34,
   "outputs": [
    {
     "data": {
      "text/plain": "array([[1, 'Toy Story (1995)'],\n       [2, 'GoldenEye (1995)'],\n       [3, 'Four Rooms (1995)'],\n       ...,\n       [1680, 'Sliding Doors (1998)'],\n       [1681, 'You So Crazy (1994)'],\n       [1682, 'Scream of Stone (Schrei aus Stein) (1991)']], dtype=object)"
     },
     "execution_count": 34,
     "metadata": {},
     "output_type": "execute_result"
    }
   ],
   "source": [
    "np_movies = movies.to_numpy()\n",
    "np_movies[my_favourite_movies]"
   ],
   "metadata": {
    "collapsed": false
   }
  },
  {
   "cell_type": "code",
   "execution_count": 175,
   "outputs": [],
   "source": [
    "my_favourite_movies5 = [0, 28, 49, 66, 94, 97, 120, 126, 177, 180, 224, 221, 226, 230, 249]\n",
    "\n",
    "my_favourite_movies4 = [95, 99, 22, 71, 88, 134, 150, 160, 195, 203, 209, 227, 228, 229]\n",
    "\n",
    "assert len(np.intersect1d(my_favourite_movies5, my_favourite_movies4)) == 0\n",
    "assert len(my_favourite_movies4) + len(my_favourite_movies5) == len(my_favourite_movies)\n",
    "\n",
    "my_user_index = max(ratings['userid']) + 1\n",
    "for id in my_favourite_movies5:\n",
    "    new_rows = pd.DataFrame({\n",
    "        'userid': [my_user_index],\n",
    "        'itemid': [id],\n",
    "        'rating': [5]\n",
    "    }, index=[0])\n",
    "    ratings = pd.concat([ratings, new_rows], ignore_index=True)\n",
    "for id in my_favourite_movies4:\n",
    "    new_rows = pd.DataFrame({\n",
    "        'userid': [my_user_index],\n",
    "        'itemid': [id],\n",
    "        'rating': [4]\n",
    "    }, index=[0])\n",
    "    ratings = pd.concat([ratings, new_rows], ignore_index=True)"
   ],
   "metadata": {
    "collapsed": false
   }
  },
  {
   "cell_type": "code",
   "execution_count": 177,
   "outputs": [
    {
     "data": {
      "text/plain": "array([[  0,   0,   5],\n       [  0,   1,   3],\n       [  0,   2,   4],\n       ...,\n       [952, 227,   4],\n       [952, 228,   4],\n       [952, 229,   4]])"
     },
     "execution_count": 177,
     "metadata": {},
     "output_type": "execute_result"
    }
   ],
   "source": [
    "ratings, uencoder, iencoder = ids_encoder(ratings)\n",
    "np_ratings = ratings.to_numpy()\n",
    "all_ratings = ratings.to_numpy()\n",
    "np_ratings"
   ],
   "metadata": {
    "collapsed": false
   }
  },
  {
   "cell_type": "markdown",
   "source": [],
   "metadata": {
    "collapsed": false
   }
  },
  {
   "cell_type": "markdown",
   "source": [
    "### Топ-10 рекомендаций по каждому из 6 методов"
   ],
   "metadata": {
    "collapsed": false
   }
  },
  {
   "cell_type": "code",
   "execution_count": 166,
   "outputs": [],
   "source": [
    "def candidate_items(\n",
    "    np_ratings: np.array, userid: int, k=-1\n",
    ") -> tp.Tuple[np.array, np.array]:\n",
    "    user_movies = np_ratings[np_ratings[:, 0] == userid][:, 1]\n",
    "    all_movies = np.unique(np_ratings[:, 1])\n",
    "\n",
    "    return np.setdiff1d(all_movies, user_movies)"
   ],
   "metadata": {
    "collapsed": false
   }
  },
  {
   "cell_type": "code",
   "execution_count": 167,
   "outputs": [
    {
     "name": "stdout",
     "output_type": "stream",
     "text": [
      "Candidates: 1654\n"
     ]
    },
    {
     "data": {
      "text/plain": "array([   1,    2,    3, ..., 1679, 1680, 1681])"
     },
     "execution_count": 167,
     "metadata": {},
     "output_type": "execute_result"
    }
   ],
   "source": [
    "candidates = candidate_items(np_ratings, my_user_index - 1)\n",
    "\n",
    "print(\"Candidates:\", len(candidates))\n",
    "candidates"
   ],
   "metadata": {
    "collapsed": false
   }
  },
  {
   "cell_type": "code",
   "execution_count": 168,
   "outputs": [],
   "source": [
    "def topn_recommendations(rating_predictions, similarity_func, k = 10):\n",
    "    candidates_with_ratings = []\n",
    "    for id in candidates:\n",
    "        candidates_with_ratings.append((rating_predictions(np_ratings, my_user_index - 1, id, similarity_func), id))\n",
    "    candidates_with_ratings = sorted(candidates_with_ratings, reverse=True)\n",
    "    return candidates_with_ratings[:k]"
   ],
   "metadata": {
    "collapsed": false
   }
  },
  {
   "cell_type": "code",
   "execution_count": 169,
   "outputs": [
    {
     "data": {
      "text/plain": "array([], dtype=int64)"
     },
     "execution_count": 169,
     "metadata": {},
     "output_type": "execute_result"
    }
   ],
   "source": [
    "ratings_i = ratings_for_user(my_user_index - 1)\n",
    "movies_user1 = ratings_i[:, 1]\n",
    "movies_user1"
   ],
   "metadata": {
    "collapsed": false
   }
  },
  {
   "cell_type": "code",
   "execution_count": 172,
   "outputs": [
    {
     "name": "stderr",
     "output_type": "stream",
     "text": [
      "/var/folders/51/m95j7hvn1rg7qdby5h40q6brm6j4p4/T/ipykernel_26550/4148256719.py:7: RuntimeWarning: invalid value encountered in scalar divide\n",
      "  return numerator / denominator\n"
     ]
    },
    {
     "data": {
      "text/plain": "array([[1201, 'Marlene Dietrich: Shadow and Light (1996) '],\n       [1122, 'They Made Me a Criminal (1939)'],\n       [814, 'Great Day in Harlem, A (1994)'],\n       [1189, 'Prefontaine (1997)'],\n       [119, 'Maya Lin: A Strong Clear Vision (1994)'],\n       [1233, 'Nénette et Boni (1996)'],\n       [408, 'Close Shave, A (1995)'],\n       [64, 'Shawshank Redemption, The (1994)'],\n       [169, 'Wrong Trousers, The (1993)'],\n       [174, 'Raiders of the Lost Ark (1981)']], dtype=object)"
     },
     "execution_count": 172,
     "metadata": {},
     "output_type": "execute_result"
    }
   ],
   "source": [
    "top1 = topn_recommendations(rating_predictions_1, jaccard_similarity)\n",
    "np_movies[[item[1] for item in top1]]"
   ],
   "metadata": {
    "collapsed": false
   }
  },
  {
   "cell_type": "code",
   "execution_count": 189,
   "outputs": [
    {
     "name": "stderr",
     "output_type": "stream",
     "text": [
      "/var/folders/51/m95j7hvn1rg7qdby5h40q6brm6j4p4/T/ipykernel_26550/419510965.py:15: RuntimeWarning: invalid value encountered in scalar divide\n",
      "  similarity = np.dot(x, y) / (np.linalg.norm(x) * np.linalg.norm(y))\n",
      "/var/folders/51/m95j7hvn1rg7qdby5h40q6brm6j4p4/T/ipykernel_26550/4148256719.py:7: RuntimeWarning: invalid value encountered in scalar divide\n",
      "  return numerator / denominator\n"
     ]
    },
    {
     "name": "stdout",
     "output_type": "stream",
     "text": [
      "[(5.0, 1200), (5.0, 1188), (5.0, 1121), (5.0, 813), (4.659836305598883, 317), (4.619444146308779, 63), (4.6000648847857155, 11), (4.580134402956076, 482), (4.52013560863347, 407), (4.519492943490043, 602)]\n"
     ]
    },
    {
     "data": {
      "text/plain": "array([[1201, 'Marlene Dietrich: Shadow and Light (1996) '],\n       [1189, 'Prefontaine (1997)'],\n       [1122, 'They Made Me a Criminal (1939)'],\n       [814, 'Great Day in Harlem, A (1994)'],\n       [318, \"Schindler's List (1993)\"],\n       [64, 'Shawshank Redemption, The (1994)'],\n       [12, 'Usual Suspects, The (1995)'],\n       [483, 'Casablanca (1942)'],\n       [408, 'Close Shave, A (1995)'],\n       [603, 'Rear Window (1954)']], dtype=object)"
     },
     "execution_count": 189,
     "metadata": {},
     "output_type": "execute_result"
    }
   ],
   "source": [
    "top2 = topn_recommendations(rating_predictions_1, dot_product_similarity)\n",
    "print(top2)\n",
    "np_movies[[item[1] for item in top2]]"
   ],
   "metadata": {
    "collapsed": false
   }
  },
  {
   "cell_type": "code",
   "execution_count": 182,
   "outputs": [
    {
     "name": "stdout",
     "output_type": "stream",
     "text": [
      "[(5.0, 1535), (5.0, 1499), (5.0, 1466), (5.0, 1200), (5.0, 1121), (5.0, 813), (4.5635227064721375, 173), (4.561062017052539, 1357), (4.560262806930402, 63), (4.549222301327, 407)]\n"
     ]
    },
    {
     "data": {
      "text/plain": "array([[1536, 'Aiqing wansui (1994)'],\n       [1500, 'Santa with Muscles (1996)'],\n       [1467, 'Saint of Fort Washington, The (1993)'],\n       [1201, 'Marlene Dietrich: Shadow and Light (1996) '],\n       [1122, 'They Made Me a Criminal (1939)'],\n       [814, 'Great Day in Harlem, A (1994)'],\n       [174, 'Raiders of the Lost Ark (1981)'],\n       [1358, 'The Deadly Cure (1996)'],\n       [64, 'Shawshank Redemption, The (1994)'],\n       [408, 'Close Shave, A (1995)']], dtype=object)"
     },
     "execution_count": 182,
     "metadata": {},
     "output_type": "execute_result"
    }
   ],
   "source": [
    "top3 = topn_recommendations(rating_predictions_1, pearson_correlation)\n",
    "print(top3)\n",
    "np_movies[[item[1] for item in top3]]"
   ],
   "metadata": {
    "collapsed": false
   }
  },
  {
   "cell_type": "code",
   "execution_count": 183,
   "outputs": [
    {
     "data": {
      "text/plain": "array([[814, 'Great Day in Harlem, A (1994)'],\n       [1463, 'Boys, Les (1997)'],\n       [1536, 'Aiqing wansui (1994)'],\n       [1467, 'Saint of Fort Washington, The (1993)'],\n       [1233, 'Nénette et Boni (1996)'],\n       [1599, \"Someone Else's America (1995)\"],\n       [1500, 'Santa with Muscles (1996)'],\n       [1367, 'Faust (1994)'],\n       [1629, 'Nico Icon (1995)'],\n       [1642, \"Some Mother's Son (1996)\"]], dtype=object)"
     },
     "execution_count": 183,
     "metadata": {},
     "output_type": "execute_result"
    }
   ],
   "source": [
    "top4 = topn_recommendations(rating_predictions_2, jaccard_similarity)\n",
    "np_movies[[item[1] for item in top4]]"
   ],
   "metadata": {
    "collapsed": false
   }
  },
  {
   "cell_type": "code",
   "execution_count": 190,
   "outputs": [
    {
     "name": "stderr",
     "output_type": "stream",
     "text": [
      "/var/folders/51/m95j7hvn1rg7qdby5h40q6brm6j4p4/T/ipykernel_26550/419510965.py:15: RuntimeWarning: invalid value encountered in scalar divide\n",
      "  similarity = np.dot(x, y) / (np.linalg.norm(x) * np.linalg.norm(y))\n"
     ]
    },
    {
     "data": {
      "text/plain": "array([[814, 'Great Day in Harlem, A (1994)'],\n       [1463, 'Boys, Les (1997)'],\n       [1536, 'Aiqing wansui (1994)'],\n       [1467, 'Saint of Fort Washington, The (1993)'],\n       [1500, 'Santa with Muscles (1996)'],\n       [1599, \"Someone Else's America (1995)\"],\n       [1642, \"Some Mother's Son (1996)\"],\n       [1662, 'Rough Magic (1995)'],\n       [1233, 'Nénette et Boni (1996)'],\n       [1449, 'Pather Panchali (1955)']], dtype=object)"
     },
     "execution_count": 190,
     "metadata": {},
     "output_type": "execute_result"
    }
   ],
   "source": [
    "top5 = topn_recommendations(rating_predictions_2, dot_product_similarity)\n",
    "np_movies[[item[1] for item in top5]]"
   ],
   "metadata": {
    "collapsed": false
   }
  },
  {
   "cell_type": "code",
   "execution_count": 119,
   "outputs": [
    {
     "data": {
      "text/plain": "array([[1661, 'New Age, The (1994)'],\n       [1626, 'Nobody Loves Me (Keiner liebt mich) (1994)'],\n       [1671, 'Further Gesture, A (1996)'],\n       [1678, \"Mat' i syn (1997)\"],\n       [1554, 'Safe Passage (1994)'],\n       [814, 'Great Day in Harlem, A (1994)'],\n       [1256, 'Designated Mourner, The (1997)'],\n       [1644, 'Sudden Manhattan (1996)'],\n       [1502, 'Naked in New York (1994)'],\n       [1257, 'Designated Mourner, The (1997)']], dtype=object)"
     },
     "execution_count": 119,
     "metadata": {},
     "output_type": "execute_result"
    }
   ],
   "source": [
    "top6 = topn_recommendations(rating_predictions_2, pearson_correlation)\n",
    "np_movies[[item[1] for item in top6]]"
   ],
   "metadata": {
    "collapsed": false
   }
  },
  {
   "cell_type": "markdown",
   "source": [
    "### Оцените каждый рекомендованный вам фильм по шкале релевантности от 0 до 1. Посчитайте среднюю релевантность и ndcg для каждого метода.\\ Релевантны ли вам рекомендации, построенные по вашим фильмам?"
   ],
   "metadata": {
    "collapsed": false
   }
  },
  {
   "cell_type": "code",
   "execution_count": 193,
   "outputs": [],
   "source": [
    "relevant_top1 = np.array([0.4, 0.55, 0.7, 0.64, 0.33, 0.4, 0.88, 1, 0.8, 1])\n",
    "relevant_top2 = np.array([0.4, 0.64, 0.7, 0.7, 1, 1, 1, 0.9, 0.88, 0.9])\n",
    "relevant_top3 = np.array([0.6, 0.2, 0.35, 0.4, 0.7, 0.7, 1, 0.8, 1, 0.88])\n",
    "relevant_top4 = np.array([0.7, 0.5, 0.6, 0.35, 0.4, 0.56, 0.2, 0.67, 0.58, 0.48])\n",
    "relevant_top5 = np.array([0.7, 0.5, 0.6, 0.35, 0.2, 0.56, 0.48, 0.8, 0.4, 0.69])\n",
    "relevant_top6 = np.array([0.52, 0.45, 0.33, 0.9, 0.6, 0.7, 0.5, 0.4, 0.8, 0.5])"
   ],
   "metadata": {
    "collapsed": false
   }
  },
  {
   "cell_type": "code",
   "execution_count": 196,
   "outputs": [
    {
     "name": "stdout",
     "output_type": "stream",
     "text": [
      "NDCG для метода 1: 0.8086711892984718\n",
      "NDCG для метода 2: 0.8473176579515174\n",
      "NDCG для метода 3: 0.7984621537858504\n",
      "NDCG для метода 4: 0.9583486499278216\n",
      "NDCG для метода 5: 0.9204693415128716\n",
      "NDCG для метода 6: 0.8626417015176465\n"
     ]
    }
   ],
   "source": [
    "def dcg(relevances):\n",
    "    n = 10\n",
    "    log_positions = np.log2(np.arange(n) + 2)\n",
    "    return np.sum(relevances / log_positions)\n",
    "\n",
    "def ndcg(recs, k=10):\n",
    "    dcg_val = dcg(recs)\n",
    "    idcg_val = dcg(sorted(recs, reverse=True))\n",
    "    return dcg_val / idcg_val\n",
    "\n",
    "ndcg_method1 = ndcg(relevant_top1)\n",
    "ndcg_method2 = ndcg(relevant_top2)\n",
    "ndcg_method3 = ndcg(relevant_top3)\n",
    "ndcg_method4 = ndcg(relevant_top4)\n",
    "ndcg_method5 = ndcg(relevant_top5)\n",
    "ndcg_method6 = ndcg(relevant_top6)\n",
    "\n",
    "print(\"NDCG для метода 1:\", ndcg_method1)\n",
    "print(\"NDCG для метода 2:\", ndcg_method2)\n",
    "print(\"NDCG для метода 3:\", ndcg_method3)\n",
    "print(\"NDCG для метода 4:\", ndcg_method4)\n",
    "print(\"NDCG для метода 5:\", ndcg_method5)\n",
    "print(\"NDCG для метода 6:\", ndcg_method6)"
   ],
   "metadata": {
    "collapsed": false
   }
  },
  {
   "cell_type": "markdown",
   "source": [
    "Есть множество интересных рекомендаций, особенно понравились предсказания второй модели. Совсем плохих рекомендаций, чтобы мне не понравилось описание в IMBD не так много процентов 15%. При этом есть фильмов 10, которые я смотрел и очень люблю."
   ],
   "metadata": {
    "collapsed": false
   }
  },
  {
   "cell_type": "markdown",
   "source": [
    "### Часть 5"
   ],
   "metadata": {
    "collapsed": false
   }
  },
  {
   "cell_type": "markdown",
   "source": [
    "### Сравнение рекомендаций и анализ полученных результатов"
   ],
   "metadata": {
    "collapsed": false
   }
  },
  {
   "cell_type": "markdown",
   "source": [],
   "metadata": {
    "collapsed": false
   }
  },
  {
   "cell_type": "code",
   "execution_count": 201,
   "outputs": [
    {
     "name": "stdout",
     "output_type": "stream",
     "text": [
      "Сравнение модели 1 и модели 2:\n",
      "Количество общих фильмов: 6\n",
      "Correlation: 0.9272727272727272\n",
      "Сравнение модели 1 и модели 3:\n",
      "Количество общих фильмов: 6\n",
      "Correlation: 0.6242424242424242\n",
      "Сравнение модели 1 и модели 4:\n",
      "Количество общих фильмов: 2\n",
      "Correlation: 0.9515151515151514\n",
      "Сравнение модели 1 и модели 5:\n",
      "Количество общих фильмов: 2\n",
      "Correlation: 0.9515151515151514\n",
      "Сравнение модели 1 и модели 6:\n",
      "Количество общих фильмов: 1\n",
      "Correlation: 0.9515151515151514\n",
      "Сравнение модели 2 и модели 3:\n",
      "Количество общих фильмов: 5\n",
      "Correlation: 0.6969696969696969\n",
      "Сравнение модели 2 и модели 4:\n",
      "Количество общих фильмов: 1\n",
      "Correlation: 0.8787878787878788\n",
      "Сравнение модели 2 и модели 5:\n",
      "Количество общих фильмов: 1\n",
      "Correlation: 0.8787878787878788\n",
      "Сравнение модели 2 и модели 6:\n",
      "Количество общих фильмов: 1\n",
      "Correlation: 0.8787878787878788\n",
      "Сравнение модели 3 и модели 4:\n",
      "Количество общих фильмов: 4\n",
      "Correlation: 0.5757575757575757\n",
      "Сравнение модели 3 и модели 5:\n",
      "Количество общих фильмов: 4\n",
      "Correlation: 0.5757575757575757\n",
      "Сравнение модели 3 и модели 6:\n",
      "Количество общих фильмов: 1\n",
      "Correlation: 0.5757575757575757\n",
      "Сравнение модели 4 и модели 5:\n",
      "Количество общих фильмов: 8\n",
      "Correlation: 0.9999999999999999\n",
      "Сравнение модели 4 и модели 6:\n",
      "Количество общих фильмов: 1\n",
      "Correlation: 0.9999999999999999\n",
      "Сравнение модели 5 и модели 6:\n",
      "Количество общих фильмов: 1\n",
      "Correlation: 0.9999999999999999\n"
     ]
    }
   ],
   "source": [
    "def compare_recs(recs_a, recs_b):\n",
    "    movies_a = set([movie_id for _, movie_id in recs_a])\n",
    "    movies_b = set([movie_id for _, movie_id in recs_b])\n",
    "\n",
    "    common_movies = movies_a.intersection(movies_b)\n",
    "    only_in_a = movies_a.difference(movies_b)\n",
    "    only_in_b = movies_b.difference(movies_a)\n",
    "\n",
    "    return common_movies, only_in_a, only_in_b\n",
    "\n",
    "from scipy.stats import spearmanr\n",
    "\n",
    "all_recs = [top1, top2, top3, top4, top5, top6]\n",
    "\n",
    "for i in range(len(all_recs)):\n",
    "    for j in range(i+1, len(all_recs)):\n",
    "        common_movies, only_in_i, only_in_j = compare_recs(all_recs[i], all_recs[j])\n",
    "        ranks_1 = np.argsort([rating for rating, _ in all_recs[i]])[::-1]\n",
    "        ranks_2 = np.argsort([rating for rating, _ in all_recs[j]])[::-1]\n",
    "        correlation, p_value = spearmanr(ranks_1, ranks_2)\n",
    "        print(f\"Сравнение модели {i+1} и модели {j+1}:\")\n",
    "        print(f\"Количество общих фильмов: {len(common_movies)}\")\n",
    "        print(f\"Correlation: {correlation}\")"
   ],
   "metadata": {
    "collapsed": false
   }
  },
  {
   "cell_type": "markdown",
   "source": [
    "### Анализ полученных результатов для метрик схожести\n",
    "1) Коэффициент Жаккара удобен когда нужно учитывать только посмотрел пользователь фильм или нет, в данной ситуации не так хорош, так как не учитывает оценки для фильмов. Поэтому рекомендация 1 показала почти самый худший результат.\n",
    "2) Скалярное произведение общих рейтингов уже напрямую учитывает оценки общих фильмов, но никак не учитывает фильмы которые не находятся в пересечении. Показал лучший результат (2 рекомендация) среди Простое усреднение по ближайшим соседям. Так же может быть чувствительной к экстремально высоким оценкам у небольшого числа элементов.\n",
    "3) Скорректированная Корреляция Пирсона учитывает как сходство в оценках, так и различие от средних рейтингов, делая метрику более устойчивой к различиям в шкалах оценки у разных пользователей. При этом показал не самые лучшие результаты."
   ],
   "metadata": {
    "collapsed": false
   }
  },
  {
   "cell_type": "markdown",
   "source": [
    "### Анализ полученных результатов для схем колаборативной фильтрации\n",
    "1) Простое усреднение по ближайшим соседям прост в реализации, но не учитывает перекосы пользователя в оценках, что один может ставить в среднем всегда высокие или наоборот. Так же данный метод не учитывает личные склонности пользователя ставить более высокие или более низкие оценки, при выставлении финального предсказания.\n",
    "2) Усреднение с учётом коррекции среднего исправляет искажения в оценках, связанные с индивидуальной тенденцией пользователя ставить более высокие или более низкие оценки, путём внесения корректировки на основе общего среднего рейтинга пользователя. Требует больше вычислений. Показал в среднем лучшие результаты чем 1 метод."
   ],
   "metadata": {
    "collapsed": false
   }
  }
 ],
 "metadata": {
  "kernelspec": {
   "display_name": "Python 3",
   "language": "python",
   "name": "python3"
  },
  "language_info": {
   "codemirror_mode": {
    "name": "ipython",
    "version": 2
   },
   "file_extension": ".py",
   "mimetype": "text/x-python",
   "name": "python",
   "nbconvert_exporter": "python",
   "pygments_lexer": "ipython2",
   "version": "2.7.6"
  }
 },
 "nbformat": 4,
 "nbformat_minor": 0
}
