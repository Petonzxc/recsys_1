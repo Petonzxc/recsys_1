{
 "cells": [
  {
   "cell_type": "code",
   "execution_count": 552,
   "metadata": {
    "collapsed": true
   },
   "outputs": [],
   "source": [
    "import os\n",
    "import sys\n",
    "import typing as tp\n",
    "\n",
    "import joblib\n",
    "import numpy as np\n",
    "import pandas as pd\n",
    "import tqdm.notebook\n",
    "from recsys.datasets import ml1m, ml100k\n",
    "from sklearn.preprocessing import LabelEncoder"
   ]
  },
  {
   "cell_type": "code",
   "execution_count": 553,
   "outputs": [
    {
     "name": "stdout",
     "output_type": "stream",
     "text": [
      "The autoreload extension is already loaded. To reload it, use:\n",
      "  %reload_ext autoreload\n"
     ]
    }
   ],
   "source": [
    "%load_ext autoreload\n",
    "%autoreload 2"
   ],
   "metadata": {
    "collapsed": false
   }
  },
  {
   "cell_type": "code",
   "execution_count": 554,
   "outputs": [
    {
     "data": {
      "text/plain": "   userid  itemid  rating\n0       1       1       5\n1       1       2       3\n2       1       3       4\n3       1       4       3\n4       1       5       3",
      "text/html": "<div>\n<style scoped>\n    .dataframe tbody tr th:only-of-type {\n        vertical-align: middle;\n    }\n\n    .dataframe tbody tr th {\n        vertical-align: top;\n    }\n\n    .dataframe thead th {\n        text-align: right;\n    }\n</style>\n<table border=\"1\" class=\"dataframe\">\n  <thead>\n    <tr style=\"text-align: right;\">\n      <th></th>\n      <th>userid</th>\n      <th>itemid</th>\n      <th>rating</th>\n    </tr>\n  </thead>\n  <tbody>\n    <tr>\n      <th>0</th>\n      <td>1</td>\n      <td>1</td>\n      <td>5</td>\n    </tr>\n    <tr>\n      <th>1</th>\n      <td>1</td>\n      <td>2</td>\n      <td>3</td>\n    </tr>\n    <tr>\n      <th>2</th>\n      <td>1</td>\n      <td>3</td>\n      <td>4</td>\n    </tr>\n    <tr>\n      <th>3</th>\n      <td>1</td>\n      <td>4</td>\n      <td>3</td>\n    </tr>\n    <tr>\n      <th>4</th>\n      <td>1</td>\n      <td>5</td>\n      <td>3</td>\n    </tr>\n  </tbody>\n</table>\n</div>"
     },
     "execution_count": 554,
     "metadata": {},
     "output_type": "execute_result"
    }
   ],
   "source": [
    "ratings, movies = ml100k.load()\n",
    "ratings.head()"
   ],
   "metadata": {
    "collapsed": false
   }
  },
  {
   "cell_type": "code",
   "execution_count": 555,
   "outputs": [
    {
     "data": {
      "text/plain": "   itemid              title\n0       1   Toy Story (1995)\n1       2   GoldenEye (1995)\n2       3  Four Rooms (1995)\n3       4  Get Shorty (1995)\n4       5     Copycat (1995)",
      "text/html": "<div>\n<style scoped>\n    .dataframe tbody tr th:only-of-type {\n        vertical-align: middle;\n    }\n\n    .dataframe tbody tr th {\n        vertical-align: top;\n    }\n\n    .dataframe thead th {\n        text-align: right;\n    }\n</style>\n<table border=\"1\" class=\"dataframe\">\n  <thead>\n    <tr style=\"text-align: right;\">\n      <th></th>\n      <th>itemid</th>\n      <th>title</th>\n    </tr>\n  </thead>\n  <tbody>\n    <tr>\n      <th>0</th>\n      <td>1</td>\n      <td>Toy Story (1995)</td>\n    </tr>\n    <tr>\n      <th>1</th>\n      <td>2</td>\n      <td>GoldenEye (1995)</td>\n    </tr>\n    <tr>\n      <th>2</th>\n      <td>3</td>\n      <td>Four Rooms (1995)</td>\n    </tr>\n    <tr>\n      <th>3</th>\n      <td>4</td>\n      <td>Get Shorty (1995)</td>\n    </tr>\n    <tr>\n      <th>4</th>\n      <td>5</td>\n      <td>Copycat (1995)</td>\n    </tr>\n  </tbody>\n</table>\n</div>"
     },
     "execution_count": 555,
     "metadata": {},
     "output_type": "execute_result"
    }
   ],
   "source": [
    "movies.head()"
   ],
   "metadata": {
    "collapsed": false
   }
  },
  {
   "cell_type": "markdown",
   "source": [
    "### Preprocessing"
   ],
   "metadata": {
    "collapsed": false
   }
  },
  {
   "cell_type": "code",
   "execution_count": 556,
   "outputs": [],
   "source": [
    "def ids_encoder(ratings):\n",
    "    users = sorted(ratings[\"userid\"].unique())\n",
    "    items = sorted(ratings[\"itemid\"].unique())\n",
    "\n",
    "    # create users and items encoders\n",
    "    uencoder = LabelEncoder()\n",
    "    iencoder = LabelEncoder()\n",
    "\n",
    "    # fit users and items ids to the corresponding encoder\n",
    "    uencoder.fit(users)\n",
    "    iencoder.fit(items)\n",
    "\n",
    "    # encode userids and itemids\n",
    "    ratings.userid = uencoder.transform(ratings.userid.tolist())\n",
    "    ratings.itemid = iencoder.transform(ratings.itemid.tolist())\n",
    "\n",
    "    return ratings, uencoder, iencoder"
   ],
   "metadata": {
    "collapsed": false
   }
  },
  {
   "cell_type": "code",
   "execution_count": 557,
   "outputs": [
    {
     "data": {
      "text/plain": "      userid  itemid  rating\n0          0       0       5\n1          0       1       3\n2          0       2       4\n3          0       3       3\n4          0       4       3\n...      ...     ...     ...\n1095       6     577       3\n1096       6     578       4\n1097       6     579       3\n1098       6     580       5\n1099       6     581       5\n\n[1100 rows x 3 columns]",
      "text/html": "<div>\n<style scoped>\n    .dataframe tbody tr th:only-of-type {\n        vertical-align: middle;\n    }\n\n    .dataframe tbody tr th {\n        vertical-align: top;\n    }\n\n    .dataframe thead th {\n        text-align: right;\n    }\n</style>\n<table border=\"1\" class=\"dataframe\">\n  <thead>\n    <tr style=\"text-align: right;\">\n      <th></th>\n      <th>userid</th>\n      <th>itemid</th>\n      <th>rating</th>\n    </tr>\n  </thead>\n  <tbody>\n    <tr>\n      <th>0</th>\n      <td>0</td>\n      <td>0</td>\n      <td>5</td>\n    </tr>\n    <tr>\n      <th>1</th>\n      <td>0</td>\n      <td>1</td>\n      <td>3</td>\n    </tr>\n    <tr>\n      <th>2</th>\n      <td>0</td>\n      <td>2</td>\n      <td>4</td>\n    </tr>\n    <tr>\n      <th>3</th>\n      <td>0</td>\n      <td>3</td>\n      <td>3</td>\n    </tr>\n    <tr>\n      <th>4</th>\n      <td>0</td>\n      <td>4</td>\n      <td>3</td>\n    </tr>\n    <tr>\n      <th>...</th>\n      <td>...</td>\n      <td>...</td>\n      <td>...</td>\n    </tr>\n    <tr>\n      <th>1095</th>\n      <td>6</td>\n      <td>577</td>\n      <td>3</td>\n    </tr>\n    <tr>\n      <th>1096</th>\n      <td>6</td>\n      <td>578</td>\n      <td>4</td>\n    </tr>\n    <tr>\n      <th>1097</th>\n      <td>6</td>\n      <td>579</td>\n      <td>3</td>\n    </tr>\n    <tr>\n      <th>1098</th>\n      <td>6</td>\n      <td>580</td>\n      <td>5</td>\n    </tr>\n    <tr>\n      <th>1099</th>\n      <td>6</td>\n      <td>581</td>\n      <td>5</td>\n    </tr>\n  </tbody>\n</table>\n<p>1100 rows × 3 columns</p>\n</div>"
     },
     "execution_count": 557,
     "metadata": {},
     "output_type": "execute_result"
    }
   ],
   "source": [
    "# create the encoder\n",
    "ratings, uencoder, iencoder = ids_encoder(ratings)\n",
    "ratings.head(1100)"
   ],
   "metadata": {
    "collapsed": false
   }
  },
  {
   "cell_type": "code",
   "execution_count": 558,
   "outputs": [],
   "source": [
    "from sklearn.model_selection import train_test_split\n",
    "train_data, test_data = train_test_split(ratings, test_size=0.2)\n",
    "np_ratings = train_data.to_numpy()"
   ],
   "metadata": {
    "collapsed": false
   }
  },
  {
   "cell_type": "markdown",
   "source": [
    "## 1 Задание"
   ],
   "metadata": {
    "collapsed": false
   }
  },
  {
   "cell_type": "code",
   "execution_count": 559,
   "outputs": [],
   "source": [
    "from functools import lru_cache\n",
    "\n",
    "@lru_cache(2000)\n",
    "def ratings_for_user(i):\n",
    "    return np_ratings[np_ratings[:, 0] == i]"
   ],
   "metadata": {
    "collapsed": false
   }
  },
  {
   "cell_type": "markdown",
   "source": [
    "### Коэффициент Жаккара"
   ],
   "metadata": {
    "collapsed": false
   }
  },
  {
   "cell_type": "code",
   "execution_count": 560,
   "outputs": [
    {
     "name": "stdout",
     "output_type": "stream",
     "text": [
      "0.052\n"
     ]
    }
   ],
   "source": [
    "def jaccard_similarity(i: int, j: int) -> float:\n",
    "    if i == j:\n",
    "        return 1.0\n",
    "\n",
    "    ratings_i, ratings_j = ratings_for_user(i), ratings_for_user(j)\n",
    "    movies_user1 = ratings_i[:, 1]\n",
    "    movies_user2 = ratings_j[:, 1]\n",
    "\n",
    "    common_movies = np.intersect1d(movies_user1, movies_user2)\n",
    "    all_movies = np.union1d(movies_user1, movies_user2)\n",
    "\n",
    "    jaccard_index = len(common_movies) / len(all_movies)\n",
    "\n",
    "    return jaccard_index\n",
    "\n",
    "assert np.isclose(jaccard_similarity(0, 0), 1.0)\n",
    "print(jaccard_similarity(0, 1))"
   ],
   "metadata": {
    "collapsed": false
   }
  },
  {
   "cell_type": "markdown",
   "source": [
    "### Скалярное произведение общих рейтингов"
   ],
   "metadata": {
    "collapsed": false
   }
  },
  {
   "cell_type": "code",
   "execution_count": 561,
   "outputs": [
    {
     "name": "stdout",
     "output_type": "stream",
     "text": [
      "241\n"
     ]
    }
   ],
   "source": [
    "def dot_product_similarity(i: int, j: int) -> float:\n",
    "    if i == j:\n",
    "        return 1.0\n",
    "\n",
    "    ratings_i, ratings_j = ratings_for_user(i), ratings_for_user(j)\n",
    "\n",
    "    common_movies = np.intersect1d(ratings_i[:, 1], ratings_j[:, 1])\n",
    "\n",
    "    common_ratings_i = ratings_i[np.isin(ratings_i[:, 1], common_movies)]\n",
    "    common_ratings_j = ratings_j[np.isin(ratings_j[:, 1], common_movies)]\n",
    "\n",
    "    x = common_ratings_i[:, 2]\n",
    "    y = common_ratings_j[:, 2]\n",
    "\n",
    "    return np.dot(x, y)\n",
    "\n",
    "print(dot_product_similarity(0, 1))\n",
    "assert np.isclose(dot_product_similarity(0, 0), 1.0)"
   ],
   "metadata": {
    "collapsed": false
   }
  },
  {
   "cell_type": "markdown",
   "source": [
    "### Скорректированная Кореляция Пирсона"
   ],
   "metadata": {
    "collapsed": false
   }
  },
  {
   "cell_type": "code",
   "execution_count": 562,
   "outputs": [
    {
     "name": "stdout",
     "output_type": "stream",
     "text": [
      "-0.03308099874512352\n",
      "-0.0029569952570800253\n"
     ]
    }
   ],
   "source": [
    "def pearson_correlation(i: int, j: int) -> float:\n",
    "    if i == j:\n",
    "        return 1.0\n",
    "\n",
    "    ratings_i, ratings_j = ratings_for_user(i), ratings_for_user(j)\n",
    "\n",
    "    mean_user1 = np.mean(ratings_i[:, 2])\n",
    "    mean_user2 = np.mean(ratings_j[:, 2])\n",
    "\n",
    "    numerator = sum([(rating_user1 - mean_user1) * (rating_user2 - mean_user2) for rating_user1, rating_user2 in zip(ratings_i[:, 2], ratings_j[:, 2])])\n",
    "    denominator = np.sqrt(sum([(rating_user1 - mean_user1)**2 for rating_user1 in ratings_i[:, 2]]) * sum([(rating_user2 - mean_user2)**2 for rating_user2 in ratings_j[:, 2]]))\n",
    "\n",
    "    pearson_corr = numerator / denominator if denominator != 0 else 0\n",
    "\n",
    "    common_movies = np.intersect1d(ratings_i[:, 1], ratings_j[:, 1])\n",
    "\n",
    "    return pearson_corr * min(1, len(common_movies) / 50)\n",
    "\n",
    "print(pearson_correlation(0, 1))\n",
    "print(pearson_correlation(2, 3))\n",
    "assert np.isclose(pearson_correlation(0, 0), 1.0)"
   ],
   "metadata": {
    "collapsed": false
   }
  },
  {
   "cell_type": "markdown",
   "source": [
    "### 2 Задание"
   ],
   "metadata": {
    "collapsed": false
   }
  },
  {
   "cell_type": "markdown",
   "source": [
    "### Простое усреднение по ближайшим соседям"
   ],
   "metadata": {
    "collapsed": false
   }
  },
  {
   "cell_type": "code",
   "execution_count": 563,
   "outputs": [
    {
     "data": {
      "text/plain": "[(898, 0.21885347117195997),\n (243, 0.18069608507431043),\n (762, 0.14604613788906762),\n (649, 0.1435233061387521),\n (918, 0.1261670155330647)]"
     },
     "execution_count": 563,
     "metadata": {},
     "output_type": "execute_result"
    }
   ],
   "source": [
    "def get_neighbors(user, movie_id, similarity_func, k=5):\n",
    "    users_similarity = []\n",
    "    users = np.unique(np_ratings[np_ratings[:, 1] == movie_id][:, 0])\n",
    "    for cur_user in users:\n",
    "        if cur_user != user:\n",
    "            similarity = similarity_func(cur_user, user)\n",
    "            users_similarity.append((cur_user, similarity))\n",
    "\n",
    "    users_similarity = sorted(users_similarity, key=lambda x: x[1], reverse=True)\n",
    "    k = min(k, len(users_similarity))\n",
    "    top_k_neighbors = users_similarity[:k]\n",
    "\n",
    "    return top_k_neighbors\n",
    "\n",
    "get_neighbors(0, 0, pearson_correlation)"
   ],
   "metadata": {
    "collapsed": false
   }
  },
  {
   "cell_type": "code",
   "execution_count": 564,
   "outputs": [
    {
     "data": {
      "text/plain": "array([[ 428,  120,    3],\n       [  17,  691,    3],\n       [ 315,  729,    4],\n       ...,\n       [ 531,  618,    5],\n       [ 495, 1073,    2],\n       [ 415,  328,    3]])"
     },
     "execution_count": 564,
     "metadata": {},
     "output_type": "execute_result"
    }
   ],
   "source": [
    "np_ratings"
   ],
   "metadata": {
    "collapsed": false
   }
  },
  {
   "cell_type": "code",
   "execution_count": 567,
   "outputs": [
    {
     "ename": "AssertionError",
     "evalue": "",
     "output_type": "error",
     "traceback": [
      "\u001B[0;31m---------------------------------------------------------------------------\u001B[0m",
      "\u001B[0;31mAssertionError\u001B[0m                            Traceback (most recent call last)",
      "Cell \u001B[0;32mIn[567], line 6\u001B[0m\n\u001B[1;32m      3\u001B[0m     ratings \u001B[38;5;241m=\u001B[39m ratings_for_user(user)\n\u001B[1;32m      4\u001B[0m     \u001B[38;5;28;01mreturn\u001B[39;00m ratings[ratings[:, \u001B[38;5;241m1\u001B[39m] \u001B[38;5;241m==\u001B[39m movie_id][\u001B[38;5;241m0\u001B[39m][\u001B[38;5;241m2\u001B[39m]\n\u001B[0;32m----> 6\u001B[0m \u001B[38;5;28;01massert\u001B[39;00m movie_rating_for_user(\u001B[38;5;241m428\u001B[39m, \u001B[38;5;241m128\u001B[39m) \u001B[38;5;241m==\u001B[39m \u001B[38;5;241m3\u001B[39m\n",
      "\u001B[0;31mAssertionError\u001B[0m: "
     ]
    }
   ],
   "source": [
    "@lru_cache(2000)\n",
    "def movie_rating_for_user(user, movie_id) -> float:\n",
    "    ratings = ratings_for_user(user)\n",
    "    return ratings[ratings[:, 1] == movie_id][0][2]\n",
    "\n",
    "assert movie_rating_for_user(428, 128) == 3"
   ],
   "metadata": {
    "collapsed": false
   }
  },
  {
   "cell_type": "code",
   "execution_count": 568,
   "outputs": [
    {
     "data": {
      "text/plain": "3.9624130102812782"
     },
     "execution_count": 568,
     "metadata": {},
     "output_type": "execute_result"
    }
   ],
   "source": [
    "def rating_predictions_1(user, movie_id, similarity_func, k=50):\n",
    "   neighbors = get_neighbors(user, movie_id, similarity_func, k)\n",
    "\n",
    "   numerator = sum([similarity * movie_rating_for_user(user1, movie_id) for user1, similarity in neighbors])\n",
    "   denominator = sum([abs(similarity) for user1, similarity in neighbors])\n",
    "\n",
    "   return numerator / denominator\n",
    "\n",
    "rating_predictions_1(0, 0, pearson_correlation)"
   ],
   "metadata": {
    "collapsed": false
   }
  },
  {
   "cell_type": "markdown",
   "source": [
    "### Усреднение с учётом коррекции среднего"
   ],
   "metadata": {
    "collapsed": false
   }
  },
  {
   "cell_type": "code",
   "execution_count": 569,
   "outputs": [
    {
     "data": {
      "text/plain": "4.005903065238828"
     },
     "execution_count": 569,
     "metadata": {},
     "output_type": "execute_result"
    }
   ],
   "source": [
    "def rating_predictions_2(user, movie_id, similarity_func, k=50):\n",
    "   neighbors = get_neighbors(user, movie_id, similarity_func, k)\n",
    "\n",
    "   ratings = ratings_for_user(user)\n",
    "   mean_user = np.mean(ratings[:, 2])\n",
    "\n",
    "   numerator = sum([similarity * (movie_rating_for_user(user1, movie_id) - np.mean(ratings_for_user(user1)[:, 2])) for user1, similarity in neighbors])\n",
    "   denominator = sum([abs(similarity) for user1, similarity in neighbors])\n",
    "\n",
    "   if denominator == 0.0:\n",
    "       return mean_user\n",
    "\n",
    "   return mean_user + (numerator / denominator)\n",
    "\n",
    "rating_predictions_2(0, 0, pearson_correlation)"
   ],
   "metadata": {
    "collapsed": false
   }
  },
  {
   "cell_type": "markdown",
   "source": [
    "### 3 Задание"
   ],
   "metadata": {
    "collapsed": false
   }
  },
  {
   "cell_type": "markdown",
   "source": [
    "### Разделите датасет movielens на тренировочную и валидационную части. Постройте рекомендации для пользователей из валидационной части"
   ],
   "metadata": {
    "collapsed": false
   }
  },
  {
   "cell_type": "code",
   "execution_count": 570,
   "outputs": [
    {
     "data": {
      "text/plain": "       userid  itemid  rating\n2127       12     668       1\n83808     783     343       4\n44800     404     356       5\n5789       56     408       4\n24963     253     264       3",
      "text/html": "<div>\n<style scoped>\n    .dataframe tbody tr th:only-of-type {\n        vertical-align: middle;\n    }\n\n    .dataframe tbody tr th {\n        vertical-align: top;\n    }\n\n    .dataframe thead th {\n        text-align: right;\n    }\n</style>\n<table border=\"1\" class=\"dataframe\">\n  <thead>\n    <tr style=\"text-align: right;\">\n      <th></th>\n      <th>userid</th>\n      <th>itemid</th>\n      <th>rating</th>\n    </tr>\n  </thead>\n  <tbody>\n    <tr>\n      <th>2127</th>\n      <td>12</td>\n      <td>668</td>\n      <td>1</td>\n    </tr>\n    <tr>\n      <th>83808</th>\n      <td>783</td>\n      <td>343</td>\n      <td>4</td>\n    </tr>\n    <tr>\n      <th>44800</th>\n      <td>404</td>\n      <td>356</td>\n      <td>5</td>\n    </tr>\n    <tr>\n      <th>5789</th>\n      <td>56</td>\n      <td>408</td>\n      <td>4</td>\n    </tr>\n    <tr>\n      <th>24963</th>\n      <td>253</td>\n      <td>264</td>\n      <td>3</td>\n    </tr>\n  </tbody>\n</table>\n</div>"
     },
     "execution_count": 570,
     "metadata": {},
     "output_type": "execute_result"
    }
   ],
   "source": [
    "test_data.head()\n"
   ],
   "metadata": {
    "collapsed": false
   }
  },
  {
   "cell_type": "code",
   "execution_count": 571,
   "outputs": [],
   "source": [
    "def recommend_movies(user_id, item_id):\n",
    "    return rating_predictions_2(user_id, item_id, pearson_correlation, 5)"
   ],
   "metadata": {
    "collapsed": false
   }
  },
  {
   "cell_type": "code",
   "execution_count": 576,
   "outputs": [
    {
     "data": {
      "text/plain": "       userid  itemid  rating  rec_rating\n2127       12     668     1.0    2.191378\n83808     783     343     4.0    3.902259\n44800     404     356     5.0    2.818094\n5789       56     408     4.0    3.474553\n24963     253     264     3.0    3.333324",
      "text/html": "<div>\n<style scoped>\n    .dataframe tbody tr th:only-of-type {\n        vertical-align: middle;\n    }\n\n    .dataframe tbody tr th {\n        vertical-align: top;\n    }\n\n    .dataframe thead th {\n        text-align: right;\n    }\n</style>\n<table border=\"1\" class=\"dataframe\">\n  <thead>\n    <tr style=\"text-align: right;\">\n      <th></th>\n      <th>userid</th>\n      <th>itemid</th>\n      <th>rating</th>\n      <th>rec_rating</th>\n    </tr>\n  </thead>\n  <tbody>\n    <tr>\n      <th>2127</th>\n      <td>12</td>\n      <td>668</td>\n      <td>1.0</td>\n      <td>2.191378</td>\n    </tr>\n    <tr>\n      <th>83808</th>\n      <td>783</td>\n      <td>343</td>\n      <td>4.0</td>\n      <td>3.902259</td>\n    </tr>\n    <tr>\n      <th>44800</th>\n      <td>404</td>\n      <td>356</td>\n      <td>5.0</td>\n      <td>2.818094</td>\n    </tr>\n    <tr>\n      <th>5789</th>\n      <td>56</td>\n      <td>408</td>\n      <td>4.0</td>\n      <td>3.474553</td>\n    </tr>\n    <tr>\n      <th>24963</th>\n      <td>253</td>\n      <td>264</td>\n      <td>3.0</td>\n      <td>3.333324</td>\n    </tr>\n  </tbody>\n</table>\n</div>"
     },
     "execution_count": 576,
     "metadata": {},
     "output_type": "execute_result"
    }
   ],
   "source": [
    "test_data['rec_rating'] = test_data.apply(lambda row: recommend_movies(row['userid'], row['itemid']), axis=1)\n",
    "test_data['rating'] = test_data.apply(lambda row: float(row['rating']), axis=1)\n",
    "\n",
    "test_data.head()"
   ],
   "metadata": {
    "collapsed": false
   }
  },
  {
   "cell_type": "markdown",
   "source": [
    "### Метрики для предсказаний"
   ],
   "metadata": {
    "collapsed": false
   }
  },
  {
   "cell_type": "code",
   "execution_count": 592,
   "outputs": [
    {
     "name": "stdout",
     "output_type": "stream",
     "text": [
      "Precision: 0.40\n",
      "Recall: 0.38\n",
      "F1-score: 0.36\n",
      "RMSE: 1.043448668821877\n",
      "MAE: 0.818823600373041\n"
     ]
    },
    {
     "name": "stderr",
     "output_type": "stream",
     "text": [
      "/Users/tyapkinpetr/PycharmProjects/recsys_v1/venv/lib/python3.11/site-packages/sklearn/metrics/_classification.py:1509: UndefinedMetricWarning: Recall is ill-defined and being set to 0.0 in labels with no true samples. Use `zero_division` parameter to control this behavior.\n",
      "  _warn_prf(average, modifier, f\"{metric.capitalize()} is\", len(result))\n"
     ]
    },
    {
     "data": {
      "text/plain": "       userid  itemid  rating  rec_rating  predicted_class\n2127       12     668     1.0    2.191378                2\n83808     783     343     4.0    3.902259                4\n44800     404     356     5.0    2.818094                3\n5789       56     408     4.0    3.474553                3\n24963     253     264     3.0    3.333324                3\n...       ...     ...     ...         ...              ...\n95626     895     709     4.0    2.692360                3\n58403     520     158     3.0    3.496400                3\n19176     195     339     3.0    4.235709                4\n13184     127      14     4.0    3.589139                4\n82775     772      28     2.0    2.802842                3\n\n[20000 rows x 5 columns]",
      "text/html": "<div>\n<style scoped>\n    .dataframe tbody tr th:only-of-type {\n        vertical-align: middle;\n    }\n\n    .dataframe tbody tr th {\n        vertical-align: top;\n    }\n\n    .dataframe thead th {\n        text-align: right;\n    }\n</style>\n<table border=\"1\" class=\"dataframe\">\n  <thead>\n    <tr style=\"text-align: right;\">\n      <th></th>\n      <th>userid</th>\n      <th>itemid</th>\n      <th>rating</th>\n      <th>rec_rating</th>\n      <th>predicted_class</th>\n    </tr>\n  </thead>\n  <tbody>\n    <tr>\n      <th>2127</th>\n      <td>12</td>\n      <td>668</td>\n      <td>1.0</td>\n      <td>2.191378</td>\n      <td>2</td>\n    </tr>\n    <tr>\n      <th>83808</th>\n      <td>783</td>\n      <td>343</td>\n      <td>4.0</td>\n      <td>3.902259</td>\n      <td>4</td>\n    </tr>\n    <tr>\n      <th>44800</th>\n      <td>404</td>\n      <td>356</td>\n      <td>5.0</td>\n      <td>2.818094</td>\n      <td>3</td>\n    </tr>\n    <tr>\n      <th>5789</th>\n      <td>56</td>\n      <td>408</td>\n      <td>4.0</td>\n      <td>3.474553</td>\n      <td>3</td>\n    </tr>\n    <tr>\n      <th>24963</th>\n      <td>253</td>\n      <td>264</td>\n      <td>3.0</td>\n      <td>3.333324</td>\n      <td>3</td>\n    </tr>\n    <tr>\n      <th>...</th>\n      <td>...</td>\n      <td>...</td>\n      <td>...</td>\n      <td>...</td>\n      <td>...</td>\n    </tr>\n    <tr>\n      <th>95626</th>\n      <td>895</td>\n      <td>709</td>\n      <td>4.0</td>\n      <td>2.692360</td>\n      <td>3</td>\n    </tr>\n    <tr>\n      <th>58403</th>\n      <td>520</td>\n      <td>158</td>\n      <td>3.0</td>\n      <td>3.496400</td>\n      <td>3</td>\n    </tr>\n    <tr>\n      <th>19176</th>\n      <td>195</td>\n      <td>339</td>\n      <td>3.0</td>\n      <td>4.235709</td>\n      <td>4</td>\n    </tr>\n    <tr>\n      <th>13184</th>\n      <td>127</td>\n      <td>14</td>\n      <td>4.0</td>\n      <td>3.589139</td>\n      <td>4</td>\n    </tr>\n    <tr>\n      <th>82775</th>\n      <td>772</td>\n      <td>28</td>\n      <td>2.0</td>\n      <td>2.802842</td>\n      <td>3</td>\n    </tr>\n  </tbody>\n</table>\n<p>20000 rows × 5 columns</p>\n</div>"
     },
     "execution_count": 592,
     "metadata": {},
     "output_type": "execute_result"
    }
   ],
   "source": [
    "from sklearn.metrics import precision_score, recall_score, f1_score\n",
    "from sklearn.metrics import mean_squared_error, mean_absolute_error\n",
    "\n",
    "\n",
    "rmse = np.sqrt(mean_squared_error(test_data['rating'], test_data['rec_rating']))\n",
    "mae = mean_absolute_error(test_data['rating'], test_data['rec_rating'])\n",
    "\n",
    "threshold = 0.5\n",
    "test_data['predicted_class'] = test_data['rec_rating'].round(0).astype(int)\n",
    "\n",
    "precision = precision_score(test_data['rating'], test_data['predicted_class'], average = 'weighted')\n",
    "recall = recall_score(test_data['rating'], test_data['predicted_class'], average = 'weighted')\n",
    "f1 = f1_score(test_data['rating'], test_data['predicted_class'], average = 'weighted')\n",
    "\n",
    "print(f\"Precision: {precision:.2f}\")\n",
    "print(f\"Recall: {recall:.2f}\")\n",
    "print(f\"F1-score: {f1:.2f}\")\n",
    "\n",
    "print(f\"RMSE: {rmse}\")\n",
    "print(f\"MAE: {mae}\")\n",
    "test_data"
   ],
   "metadata": {
    "collapsed": false
   }
  }
 ],
 "metadata": {
  "kernelspec": {
   "display_name": "Python 3",
   "language": "python",
   "name": "python3"
  },
  "language_info": {
   "codemirror_mode": {
    "name": "ipython",
    "version": 2
   },
   "file_extension": ".py",
   "mimetype": "text/x-python",
   "name": "python",
   "nbconvert_exporter": "python",
   "pygments_lexer": "ipython2",
   "version": "2.7.6"
  }
 },
 "nbformat": 4,
 "nbformat_minor": 0
}
